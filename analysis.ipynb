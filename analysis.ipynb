{
 "cells": [
  {
   "cell_type": "markdown",
   "id": "916edcd6-86d1-4cc0-ae0c-240806430008",
   "metadata": {},
   "source": [
    "# What is the global glacier ice volume outside the ice sheets?"
   ]
  },
  {
   "cell_type": "markdown",
   "id": "84681e95-7acb-452a-8d8e-e95bb86e8ec0",
   "metadata": {},
   "source": [
    "Code & data attached to the manuscript. If using the data for something else, please refer to the original sources."
   ]
  },
  {
   "cell_type": "code",
   "execution_count": 1,
   "id": "f6f5f538-b6dd-43b1-a72f-a46729ffe77f",
   "metadata": {},
   "outputs": [],
   "source": [
    "import pandas as pd\n",
    "import numpy as np\n",
    "import matplotlib.pyplot as plt\n",
    "import matplotlib.transforms as transforms"
   ]
  },
  {
   "cell_type": "markdown",
   "id": "0414e18d-14f2-4164-9ea3-50d86b273d98",
   "metadata": {},
   "source": [
    "## Read in the various estimates"
   ]
  },
  {
   "cell_type": "code",
   "execution_count": 2,
   "id": "a1b03fcc-f7b8-46d1-a0fb-c70b23a4e52a",
   "metadata": {},
   "outputs": [],
   "source": [
    "# Match regional agg choices Millan 2022\n",
    "def reformat_df(df):\n",
    "    df.loc['01, 02'] = df.loc[['01', '02']].sum()\n",
    "    df.loc['13, 14, 15'] = df.loc[['13', '14', '15']].sum()\n",
    "    return df.drop(['01', '02'] + ['13', '14', '15']).sort_index()"
   ]
  },
  {
   "cell_type": "code",
   "execution_count": 3,
   "id": "530bbfba-8a78-4ffb-89c8-2bb5ca4fdeaf",
   "metadata": {},
   "outputs": [],
   "source": [
    "# Output\n",
    "gdf = pd.DataFrame()\n",
    "\n",
    "s = 'bm96'\n",
    "gdf.loc['Global', f'{s}_V'] = 180000\n",
    "gdf.loc['Global', f'{s}_V_err'] = 40000\n",
    "gdf.loc['Global', f'{s}_SLE'] = 0.5\n",
    "gdf.loc['Global', f'{s}_SLE_err'] = 0.1\n",
    "\n",
    "s = 'o04'\n",
    "gdf.loc['excl. A. & G.', f'{s}_V'] = 56000\n",
    "gdf.loc['excl. A. & G.', f'{s}_V_err'] = np.NaN\n",
    "gdf.loc['excl. A. & G.', f'{s}_SLE'] = 0.15\n",
    "gdf.loc['excl. A. & G.', f'{s}_SLE_err'] = np.NaN\n",
    "\n",
    "s = 'dm05'\n",
    "gdf.loc['Global', f'{s}_V'] = 260000\n",
    "gdf.loc['Global', f'{s}_V_err'] = 65000\n",
    "gdf.loc['Global', f'{s}_SLE'] = 0.65\n",
    "gdf.loc['Global', f'{s}_SLE_err'] = 0.16\n",
    "gdf.loc['excl. A. & G.', f'{s}_V'] = 133000\n",
    "gdf.loc['excl. A. & G.', f'{s}_V_err'] = 20000\n",
    "gdf.loc['excl. A. & G.', f'{s}_SLE'] = 133000 * 0.9 / 326\n",
    "gdf.loc['excl. A. & G.', f'{s}_SLE_err'] = 20000 * 0.9 / 326\n",
    "\n",
    "s = 'rb05'\n",
    "gdf.loc['excl. A. & G.', f'{s}_V'] = 87000\n",
    "gdf.loc['excl. A. & G.', f'{s}_V_err'] = 10000\n",
    "gdf.loc['excl. A. & G.', f'{s}_SLE'] = 0.241\n",
    "gdf.loc['excl. A. & G.', f'{s}_SLE_err'] = 0.026"
   ]
  },
  {
   "cell_type": "markdown",
   "id": "897462bc-8eb1-4c02-b8fa-8be4b5e0351a",
   "metadata": {},
   "source": [
    "The following estimates have regional tables."
   ]
  },
  {
   "cell_type": "markdown",
   "id": "1bce5851-7843-4358-90f5-cdc9d7620f5c",
   "metadata": {},
   "source": [
    "### Radic & Hock 2010"
   ]
  },
  {
   "cell_type": "markdown",
   "id": "4026a850-1d15-4a8c-a977-257c0c4f5e67",
   "metadata": {},
   "source": [
    "This is pre-RGI and slightly different:"
   ]
  },
  {
   "cell_type": "code",
   "execution_count": 4,
   "id": "e5033d44-e0e4-49c4-8b42-d6d6cf26421c",
   "metadata": {},
   "outputs": [
    {
     "data": {
      "text/html": [
       "<div>\n",
       "<style scoped>\n",
       "    .dataframe tbody tr th:only-of-type {\n",
       "        vertical-align: middle;\n",
       "    }\n",
       "\n",
       "    .dataframe tbody tr th {\n",
       "        vertical-align: top;\n",
       "    }\n",
       "\n",
       "    .dataframe thead th {\n",
       "        text-align: right;\n",
       "    }\n",
       "</style>\n",
       "<table border=\"1\" class=\"dataframe\">\n",
       "  <thead>\n",
       "    <tr style=\"text-align: right;\">\n",
       "      <th></th>\n",
       "      <th>WGI_XF</th>\n",
       "      <th>A</th>\n",
       "      <th>A_err</th>\n",
       "      <th>V</th>\n",
       "      <th>V_err</th>\n",
       "      <th>A.1</th>\n",
       "      <th>A_err.1</th>\n",
       "      <th>V.1</th>\n",
       "      <th>V_err.1</th>\n",
       "      <th>SLE</th>\n",
       "      <th>SLE_err</th>\n",
       "    </tr>\n",
       "  </thead>\n",
       "  <tbody>\n",
       "    <tr>\n",
       "      <th>1.0</th>\n",
       "      <td>Svalbard</td>\n",
       "      <td>36506</td>\n",
       "      <td>364</td>\n",
       "      <td>10260</td>\n",
       "      <td>823</td>\n",
       "      <td>36506</td>\n",
       "      <td>364</td>\n",
       "      <td>10260</td>\n",
       "      <td>823</td>\n",
       "      <td>26.00</td>\n",
       "      <td>2.00</td>\n",
       "    </tr>\n",
       "    <tr>\n",
       "      <th>2.0</th>\n",
       "      <td>Scandinavia</td>\n",
       "      <td>3057</td>\n",
       "      <td>18</td>\n",
       "      <td>224</td>\n",
       "      <td>11</td>\n",
       "      <td>3057</td>\n",
       "      <td>18</td>\n",
       "      <td>224</td>\n",
       "      <td>11</td>\n",
       "      <td>0.56</td>\n",
       "      <td>0.03</td>\n",
       "    </tr>\n",
       "    <tr>\n",
       "      <th>3.0</th>\n",
       "      <td>Central Europe</td>\n",
       "      <td>3045</td>\n",
       "      <td>17</td>\n",
       "      <td>194</td>\n",
       "      <td>12</td>\n",
       "      <td>3045</td>\n",
       "      <td>17</td>\n",
       "      <td>194</td>\n",
       "      <td>12</td>\n",
       "      <td>0.48</td>\n",
       "      <td>0.03</td>\n",
       "    </tr>\n",
       "    <tr>\n",
       "      <th>4.0</th>\n",
       "      <td>Franz Josef Land</td>\n",
       "      <td>13739</td>\n",
       "      <td>141</td>\n",
       "      <td>2248</td>\n",
       "      <td>176</td>\n",
       "      <td>13739</td>\n",
       "      <td>141</td>\n",
       "      <td>2248</td>\n",
       "      <td>176</td>\n",
       "      <td>5.60</td>\n",
       "      <td>0.40</td>\n",
       "    </tr>\n",
       "    <tr>\n",
       "      <th>5.0</th>\n",
       "      <td>Novaya Zemlya</td>\n",
       "      <td>23645</td>\n",
       "      <td>1132</td>\n",
       "      <td>9410</td>\n",
       "      <td>3388</td>\n",
       "      <td>23645</td>\n",
       "      <td>1132</td>\n",
       "      <td>9410</td>\n",
       "      <td>3388</td>\n",
       "      <td>23.00</td>\n",
       "      <td>8.00</td>\n",
       "    </tr>\n",
       "    <tr>\n",
       "      <th>6.0</th>\n",
       "      <td>Severnaya Zemlya</td>\n",
       "      <td>19397</td>\n",
       "      <td>566</td>\n",
       "      <td>6046</td>\n",
       "      <td>1231</td>\n",
       "      <td>19397</td>\n",
       "      <td>566</td>\n",
       "      <td>6046</td>\n",
       "      <td>1231</td>\n",
       "      <td>15.00</td>\n",
       "      <td>3.00</td>\n",
       "    </tr>\n",
       "    <tr>\n",
       "      <th>7.0</th>\n",
       "      <td>Caucasus</td>\n",
       "      <td>1397</td>\n",
       "      <td>10</td>\n",
       "      <td>88</td>\n",
       "      <td>6</td>\n",
       "      <td>1397</td>\n",
       "      <td>10</td>\n",
       "      <td>88</td>\n",
       "      <td>6</td>\n",
       "      <td>0.22</td>\n",
       "      <td>0.01</td>\n",
       "    </tr>\n",
       "    <tr>\n",
       "      <th>8.0</th>\n",
       "      <td>North and Eat Asia</td>\n",
       "      <td>2902</td>\n",
       "      <td>14</td>\n",
       "      <td>170</td>\n",
       "      <td>8</td>\n",
       "      <td>2902</td>\n",
       "      <td>14</td>\n",
       "      <td>170</td>\n",
       "      <td>8</td>\n",
       "      <td>0.42</td>\n",
       "      <td>0.02</td>\n",
       "    </tr>\n",
       "    <tr>\n",
       "      <th>9.0</th>\n",
       "      <td>High Mountain Ais</td>\n",
       "      <td>107340</td>\n",
       "      <td>229</td>\n",
       "      <td>10877</td>\n",
       "      <td>404</td>\n",
       "      <td>114330</td>\n",
       "      <td>729</td>\n",
       "      <td>12483</td>\n",
       "      <td>462</td>\n",
       "      <td>31.00</td>\n",
       "      <td>1.00</td>\n",
       "    </tr>\n",
       "    <tr>\n",
       "      <th>10.0</th>\n",
       "      <td>Alaska</td>\n",
       "      <td>27818</td>\n",
       "      <td>518</td>\n",
       "      <td>10477</td>\n",
       "      <td>1816</td>\n",
       "      <td>79260</td>\n",
       "      <td>1079</td>\n",
       "      <td>27436</td>\n",
       "      <td>3312</td>\n",
       "      <td>68.00</td>\n",
       "      <td>8.00</td>\n",
       "    </tr>\n",
       "    <tr>\n",
       "      <th>11.0</th>\n",
       "      <td>W. Canada and W. US</td>\n",
       "      <td>2061</td>\n",
       "      <td>14</td>\n",
       "      <td>124</td>\n",
       "      <td>11</td>\n",
       "      <td>21480</td>\n",
       "      <td>420</td>\n",
       "      <td>1892</td>\n",
       "      <td>361</td>\n",
       "      <td>4.70</td>\n",
       "      <td>0.90</td>\n",
       "    </tr>\n",
       "    <tr>\n",
       "      <th>12.0</th>\n",
       "      <td>Arctic Canada</td>\n",
       "      <td>24709</td>\n",
       "      <td>264</td>\n",
       "      <td>6102</td>\n",
       "      <td>510</td>\n",
       "      <td>146690</td>\n",
       "      <td>1068</td>\n",
       "      <td>80160</td>\n",
       "      <td>12151</td>\n",
       "      <td>199.00</td>\n",
       "      <td>30.00</td>\n",
       "    </tr>\n",
       "    <tr>\n",
       "      <th>13.0</th>\n",
       "      <td>Iceland</td>\n",
       "      <td>11005</td>\n",
       "      <td>821</td>\n",
       "      <td>4889</td>\n",
       "      <td>2244</td>\n",
       "      <td>11005</td>\n",
       "      <td>821</td>\n",
       "      <td>4889</td>\n",
       "      <td>2244</td>\n",
       "      <td>12.00</td>\n",
       "      <td>6.00</td>\n",
       "    </tr>\n",
       "    <tr>\n",
       "      <th>14.0</th>\n",
       "      <td>South America I</td>\n",
       "      <td>2765</td>\n",
       "      <td>9</td>\n",
       "      <td>131</td>\n",
       "      <td>3</td>\n",
       "      <td>7060</td>\n",
       "      <td>137</td>\n",
       "      <td>344</td>\n",
       "      <td>37</td>\n",
       "      <td>0.86</td>\n",
       "      <td>0.09</td>\n",
       "    </tr>\n",
       "    <tr>\n",
       "      <th>15.0</th>\n",
       "      <td>South America II</td>\n",
       "      <td>17884</td>\n",
       "      <td>278</td>\n",
       "      <td>5532</td>\n",
       "      <td>633</td>\n",
       "      <td>29640</td>\n",
       "      <td>663</td>\n",
       "      <td>8116</td>\n",
       "      <td>712</td>\n",
       "      <td>20.00</td>\n",
       "      <td>2.00</td>\n",
       "    </tr>\n",
       "    <tr>\n",
       "      <th>16.0</th>\n",
       "      <td>New Zealand</td>\n",
       "      <td>1156</td>\n",
       "      <td>13</td>\n",
       "      <td>83</td>\n",
       "      <td>11</td>\n",
       "      <td>1156</td>\n",
       "      <td>13</td>\n",
       "      <td>83</td>\n",
       "      <td>11</td>\n",
       "      <td>0.21</td>\n",
       "      <td>0.03</td>\n",
       "    </tr>\n",
       "    <tr>\n",
       "      <th>17.0</th>\n",
       "      <td>Greenland</td>\n",
       "      <td>14555</td>\n",
       "      <td>129</td>\n",
       "      <td>1981</td>\n",
       "      <td>153</td>\n",
       "      <td>54400</td>\n",
       "      <td>4400</td>\n",
       "      <td>17865</td>\n",
       "      <td>2993</td>\n",
       "      <td>44.00</td>\n",
       "      <td>7.00</td>\n",
       "    </tr>\n",
       "    <tr>\n",
       "      <th>18.0</th>\n",
       "      <td>Sub-Antarctic islands</td>\n",
       "      <td>1287</td>\n",
       "      <td>23</td>\n",
       "      <td>159</td>\n",
       "      <td>19</td>\n",
       "      <td>3740</td>\n",
       "      <td>129</td>\n",
       "      <td>363</td>\n",
       "      <td>44</td>\n",
       "      <td>0.90</td>\n",
       "      <td>0.10</td>\n",
       "    </tr>\n",
       "    <tr>\n",
       "      <th>19.0</th>\n",
       "      <td>Antartica</td>\n",
       "      <td>3457</td>\n",
       "      <td>54</td>\n",
       "      <td>487</td>\n",
       "      <td>55</td>\n",
       "      <td>169000</td>\n",
       "      <td>68000</td>\n",
       "      <td>59158</td>\n",
       "      <td>25829</td>\n",
       "      <td>147.00</td>\n",
       "      <td>64.00</td>\n",
       "    </tr>\n",
       "    <tr>\n",
       "      <th>NaN</th>\n",
       "      <td>Total</td>\n",
       "      <td>317724</td>\n",
       "      <td>1708</td>\n",
       "      <td>69481</td>\n",
       "      <td>4784</td>\n",
       "      <td>741448</td>\n",
       "      <td>68186</td>\n",
       "      <td>241430</td>\n",
       "      <td>29229</td>\n",
       "      <td>600.00</td>\n",
       "      <td>73.00</td>\n",
       "    </tr>\n",
       "  </tbody>\n",
       "</table>\n",
       "</div>"
      ],
      "text/plain": [
       "                     WGI_XF       A  A_err      V  V_err     A.1  A_err.1  \\\n",
       "1.0                Svalbard   36506    364  10260    823   36506      364   \n",
       "2.0             Scandinavia    3057     18    224     11    3057       18   \n",
       "3.0          Central Europe    3045     17    194     12    3045       17   \n",
       "4.0        Franz Josef Land   13739    141   2248    176   13739      141   \n",
       "5.0           Novaya Zemlya   23645   1132   9410   3388   23645     1132   \n",
       "6.0        Severnaya Zemlya   19397    566   6046   1231   19397      566   \n",
       "7.0                Caucasus    1397     10     88      6    1397       10   \n",
       "8.0      North and Eat Asia    2902     14    170      8    2902       14   \n",
       "9.0       High Mountain Ais  107340    229  10877    404  114330      729   \n",
       "10.0                 Alaska   27818    518  10477   1816   79260     1079   \n",
       "11.0    W. Canada and W. US    2061     14    124     11   21480      420   \n",
       "12.0          Arctic Canada   24709    264   6102    510  146690     1068   \n",
       "13.0                Iceland   11005    821   4889   2244   11005      821   \n",
       "14.0        South America I    2765      9    131      3    7060      137   \n",
       "15.0       South America II   17884    278   5532    633   29640      663   \n",
       "16.0            New Zealand    1156     13     83     11    1156       13   \n",
       "17.0              Greenland   14555    129   1981    153   54400     4400   \n",
       "18.0  Sub-Antarctic islands    1287     23    159     19    3740      129   \n",
       "19.0              Antartica    3457     54    487     55  169000    68000   \n",
       "NaN                   Total  317724   1708  69481   4784  741448    68186   \n",
       "\n",
       "         V.1  V_err.1     SLE  SLE_err  \n",
       "1.0    10260      823   26.00     2.00  \n",
       "2.0      224       11    0.56     0.03  \n",
       "3.0      194       12    0.48     0.03  \n",
       "4.0     2248      176    5.60     0.40  \n",
       "5.0     9410     3388   23.00     8.00  \n",
       "6.0     6046     1231   15.00     3.00  \n",
       "7.0       88        6    0.22     0.01  \n",
       "8.0      170        8    0.42     0.02  \n",
       "9.0    12483      462   31.00     1.00  \n",
       "10.0   27436     3312   68.00     8.00  \n",
       "11.0    1892      361    4.70     0.90  \n",
       "12.0   80160    12151  199.00    30.00  \n",
       "13.0    4889     2244   12.00     6.00  \n",
       "14.0     344       37    0.86     0.09  \n",
       "15.0    8116      712   20.00     2.00  \n",
       "16.0      83       11    0.21     0.03  \n",
       "17.0   17865     2993   44.00     7.00  \n",
       "18.0     363       44    0.90     0.10  \n",
       "19.0   59158    25829  147.00    64.00  \n",
       "NaN   241430    29229  600.00    73.00  "
      ]
     },
     "execution_count": 4,
     "metadata": {},
     "output_type": "execute_result"
    }
   ],
   "source": [
    "rh10 = pd.read_csv('data/rh10.csv', index_col=0, header=1)\n",
    "rh10"
   ]
  },
  {
   "cell_type": "code",
   "execution_count": 5,
   "id": "c6a25274-802c-4daf-ae85-878fe65513e1",
   "metadata": {},
   "outputs": [
    {
     "data": {
      "text/html": [
       "<div>\n",
       "<style scoped>\n",
       "    .dataframe tbody tr th:only-of-type {\n",
       "        vertical-align: middle;\n",
       "    }\n",
       "\n",
       "    .dataframe tbody tr th {\n",
       "        vertical-align: top;\n",
       "    }\n",
       "\n",
       "    .dataframe thead th {\n",
       "        text-align: right;\n",
       "    }\n",
       "</style>\n",
       "<table border=\"1\" class=\"dataframe\">\n",
       "  <thead>\n",
       "    <tr style=\"text-align: right;\">\n",
       "      <th></th>\n",
       "      <th>WGI_XF</th>\n",
       "      <th>A</th>\n",
       "      <th>A_err</th>\n",
       "      <th>V</th>\n",
       "      <th>V_err</th>\n",
       "      <th>A.1</th>\n",
       "      <th>A_err.1</th>\n",
       "      <th>V.1</th>\n",
       "      <th>V_err.1</th>\n",
       "      <th>SLE</th>\n",
       "      <th>SLE_err</th>\n",
       "    </tr>\n",
       "  </thead>\n",
       "  <tbody>\n",
       "    <tr>\n",
       "      <th>NaN</th>\n",
       "      <td>Total</td>\n",
       "      <td>317724</td>\n",
       "      <td>1708</td>\n",
       "      <td>69481</td>\n",
       "      <td>4784</td>\n",
       "      <td>741448</td>\n",
       "      <td>68186</td>\n",
       "      <td>241430</td>\n",
       "      <td>29229</td>\n",
       "      <td>600.0</td>\n",
       "      <td>73.0</td>\n",
       "    </tr>\n",
       "  </tbody>\n",
       "</table>\n",
       "</div>"
      ],
      "text/plain": [
       "    WGI_XF       A  A_err      V  V_err     A.1  A_err.1     V.1  V_err.1  \\\n",
       "NaN  Total  317724   1708  69481   4784  741448    68186  241430    29229   \n",
       "\n",
       "       SLE  SLE_err  \n",
       "NaN  600.0     73.0  "
      ]
     },
     "execution_count": 5,
     "metadata": {},
     "output_type": "execute_result"
    }
   ],
   "source": [
    "rh10_total = rh10.iloc[-1:].copy()\n",
    "rh10_total"
   ]
  },
  {
   "cell_type": "code",
   "execution_count": 6,
   "id": "d1b0c821-d3a2-4f1e-afc3-40b744b7ed23",
   "metadata": {},
   "outputs": [
    {
     "data": {
      "text/html": [
       "<div>\n",
       "<style scoped>\n",
       "    .dataframe tbody tr th:only-of-type {\n",
       "        vertical-align: middle;\n",
       "    }\n",
       "\n",
       "    .dataframe tbody tr th {\n",
       "        vertical-align: top;\n",
       "    }\n",
       "\n",
       "    .dataframe thead th {\n",
       "        text-align: right;\n",
       "    }\n",
       "</style>\n",
       "<table border=\"1\" class=\"dataframe\">\n",
       "  <thead>\n",
       "    <tr style=\"text-align: right;\">\n",
       "      <th></th>\n",
       "      <th>A</th>\n",
       "      <th>A_err</th>\n",
       "      <th>V</th>\n",
       "      <th>V_err</th>\n",
       "      <th>A.1</th>\n",
       "      <th>A_err.1</th>\n",
       "      <th>V.1</th>\n",
       "      <th>V_err.1</th>\n",
       "      <th>SLE</th>\n",
       "      <th>SLE_err</th>\n",
       "    </tr>\n",
       "  </thead>\n",
       "  <tbody>\n",
       "    <tr>\n",
       "      <th>0</th>\n",
       "      <td>317725.0</td>\n",
       "      <td>4614.0</td>\n",
       "      <td>69482.0</td>\n",
       "      <td>11514.0</td>\n",
       "      <td>741449.0</td>\n",
       "      <td>79721.0</td>\n",
       "      <td>241429.0</td>\n",
       "      <td>53811.0</td>\n",
       "      <td>598.95</td>\n",
       "      <td>132.61</td>\n",
       "    </tr>\n",
       "  </tbody>\n",
       "</table>\n",
       "</div>"
      ],
      "text/plain": [
       "          A   A_err        V    V_err       A.1  A_err.1       V.1  V_err.1  \\\n",
       "0  317725.0  4614.0  69482.0  11514.0  741449.0  79721.0  241429.0  53811.0   \n",
       "\n",
       "      SLE  SLE_err  \n",
       "0  598.95   132.61  "
      ]
     },
     "execution_count": 6,
     "metadata": {},
     "output_type": "execute_result"
    }
   ],
   "source": [
    "rh10 = rh10.iloc[:-1].copy().drop('WGI_XF', axis=1)\n",
    "rh10.index = [f'{int(c):02d}' for c in rh10.index]\n",
    "rh10.sum().to_frame().T"
   ]
  },
  {
   "cell_type": "code",
   "execution_count": 7,
   "id": "2da215ea-af9a-4365-8635-7baa8dc1ffbd",
   "metadata": {},
   "outputs": [
    {
     "data": {
      "text/html": [
       "<div>\n",
       "<style scoped>\n",
       "    .dataframe tbody tr th:only-of-type {\n",
       "        vertical-align: middle;\n",
       "    }\n",
       "\n",
       "    .dataframe tbody tr th {\n",
       "        vertical-align: top;\n",
       "    }\n",
       "\n",
       "    .dataframe thead th {\n",
       "        text-align: right;\n",
       "    }\n",
       "</style>\n",
       "<table border=\"1\" class=\"dataframe\">\n",
       "  <thead>\n",
       "    <tr style=\"text-align: right;\">\n",
       "      <th></th>\n",
       "      <th>A_err.1</th>\n",
       "      <th>V_err.1</th>\n",
       "      <th>SLE_err</th>\n",
       "    </tr>\n",
       "  </thead>\n",
       "  <tbody>\n",
       "    <tr>\n",
       "      <th>0</th>\n",
       "      <td>68185.6067</td>\n",
       "      <td>29228.473806</td>\n",
       "      <td>72.30485</td>\n",
       "    </tr>\n",
       "  </tbody>\n",
       "</table>\n",
       "</div>"
      ],
      "text/plain": [
       "      A_err.1       V_err.1   SLE_err\n",
       "0  68185.6067  29228.473806  72.30485"
      ]
     },
     "execution_count": 7,
     "metadata": {},
     "output_type": "execute_result"
    }
   ],
   "source": [
    "((rh10**2).sum()**0.5).loc[['A_err.1', 'V_err.1', 'SLE_err']].to_frame().T"
   ]
  },
  {
   "cell_type": "markdown",
   "id": "4df4c1d7-857b-44b5-80df-01c9d76f13d2",
   "metadata": {},
   "source": [
    "Table is consistent."
   ]
  },
  {
   "cell_type": "markdown",
   "id": "d297229c-42ce-4920-8c37-95973e600baa",
   "metadata": {},
   "source": [
    "**Volume without 05 and 19**:"
   ]
  },
  {
   "cell_type": "code",
   "execution_count": 8,
   "id": "3facbdbb-ff03-4d03-ac61-7730d7295de3",
   "metadata": {},
   "outputs": [
    {
     "data": {
      "text/html": [
       "<div>\n",
       "<style scoped>\n",
       "    .dataframe tbody tr th:only-of-type {\n",
       "        vertical-align: middle;\n",
       "    }\n",
       "\n",
       "    .dataframe tbody tr th {\n",
       "        vertical-align: top;\n",
       "    }\n",
       "\n",
       "    .dataframe thead th {\n",
       "        text-align: right;\n",
       "    }\n",
       "</style>\n",
       "<table border=\"1\" class=\"dataframe\">\n",
       "  <thead>\n",
       "    <tr style=\"text-align: right;\">\n",
       "      <th></th>\n",
       "      <th>A</th>\n",
       "      <th>A_err</th>\n",
       "      <th>V</th>\n",
       "      <th>V_err</th>\n",
       "      <th>A.1</th>\n",
       "      <th>A_err.1</th>\n",
       "      <th>V.1</th>\n",
       "      <th>V_err.1</th>\n",
       "      <th>SLE</th>\n",
       "      <th>SLE_err</th>\n",
       "    </tr>\n",
       "  </thead>\n",
       "  <tbody>\n",
       "    <tr>\n",
       "      <th>0</th>\n",
       "      <td>298426.0</td>\n",
       "      <td>4408.0</td>\n",
       "      <td>66855.0</td>\n",
       "      <td>11287.0</td>\n",
       "      <td>514309.0</td>\n",
       "      <td>7192.0</td>\n",
       "      <td>164043.0</td>\n",
       "      <td>24945.0</td>\n",
       "      <td>407.05</td>\n",
       "      <td>61.51</td>\n",
       "    </tr>\n",
       "  </tbody>\n",
       "</table>\n",
       "</div>"
      ],
      "text/plain": [
       "          A   A_err        V    V_err       A.1  A_err.1       V.1  V_err.1  \\\n",
       "0  298426.0  4408.0  66855.0  11287.0  514309.0   7192.0  164043.0  24945.0   \n",
       "\n",
       "      SLE  SLE_err  \n",
       "0  407.05    61.51  "
      ]
     },
     "execution_count": 8,
     "metadata": {},
     "output_type": "execute_result"
    }
   ],
   "source": [
    "rh10_no = rh10.drop(['17', '18', '19'])\n",
    "rh10_no_s = rh10_no.sum().to_frame().T\n",
    "rh10_no_s"
   ]
  },
  {
   "cell_type": "code",
   "execution_count": 9,
   "id": "c684eadc-4bcb-4f0e-9beb-c204e77f37be",
   "metadata": {},
   "outputs": [
    {
     "data": {
      "text/html": [
       "<div>\n",
       "<style scoped>\n",
       "    .dataframe tbody tr th:only-of-type {\n",
       "        vertical-align: middle;\n",
       "    }\n",
       "\n",
       "    .dataframe tbody tr th {\n",
       "        vertical-align: top;\n",
       "    }\n",
       "\n",
       "    .dataframe thead th {\n",
       "        text-align: right;\n",
       "    }\n",
       "</style>\n",
       "<table border=\"1\" class=\"dataframe\">\n",
       "  <thead>\n",
       "    <tr style=\"text-align: right;\">\n",
       "      <th></th>\n",
       "      <th>A_err.1</th>\n",
       "      <th>V_err.1</th>\n",
       "      <th>SLE_err</th>\n",
       "    </tr>\n",
       "  </thead>\n",
       "  <tbody>\n",
       "    <tr>\n",
       "      <th>0</th>\n",
       "      <td>2429.05743</td>\n",
       "      <td>13349.39905</td>\n",
       "      <td>32.908681</td>\n",
       "    </tr>\n",
       "  </tbody>\n",
       "</table>\n",
       "</div>"
      ],
      "text/plain": [
       "      A_err.1      V_err.1    SLE_err\n",
       "0  2429.05743  13349.39905  32.908681"
      ]
     },
     "execution_count": 9,
     "metadata": {},
     "output_type": "execute_result"
    }
   ],
   "source": [
    "err = ((rh10_no**2).sum()**0.5).loc[['A_err.1', 'V_err.1', 'SLE_err']].to_frame().T\n",
    "err"
   ]
  },
  {
   "cell_type": "code",
   "execution_count": 10,
   "id": "0f8974d3-d395-4886-8718-72203a2e4c25",
   "metadata": {},
   "outputs": [
    {
     "data": {
      "text/plain": [
       "array([10260,   224,   194,  2248,  9410,  6046,    88,   170, 12483,\n",
       "       27436,  1892, 80160,  4889,   344,  8116,    83])"
      ]
     },
     "execution_count": 10,
     "metadata": {},
     "output_type": "execute_result"
    }
   ],
   "source": [
    "rh10_no['V.1'].values"
   ]
  },
  {
   "cell_type": "code",
   "execution_count": 11,
   "id": "e34f7aab-69e7-431b-b953-3cb2c25e997d",
   "metadata": {},
   "outputs": [],
   "source": [
    "s = 'rh10'\n",
    "gdf.loc['Global', f'{s}_V'] = rh10_total['V.1'].values\n",
    "gdf.loc['Global', f'{s}_V_err'] = rh10_total['V_err.1'].values\n",
    "gdf.loc['Global', f'{s}_SLE'] = rh10_total['SLE'].values\n",
    "gdf.loc['Global', f'{s}_SLE_err'] = rh10_total['SLE_err'].values\n",
    "gdf.loc['excl. A. & G.', f'{s}_V'] = rh10_no_s['V.1'].values\n",
    "gdf.loc['excl. A. & G.', f'{s}_V_err'] = err['V_err.1'].values\n",
    "gdf.loc['excl. A. & G.', f'{s}_SLE'] = rh10_no_s['SLE'].values * 1e-3\n",
    "gdf.loc['excl. A. & G.', f'{s}_SLE_err'] = err['SLE_err'].values * 1e-3"
   ]
  },
  {
   "cell_type": "markdown",
   "id": "19edee08-e969-4b84-b92d-e139c75e86b7",
   "metadata": {},
   "source": [
    "### Marzeion et al, 2012"
   ]
  },
  {
   "cell_type": "code",
   "execution_count": 12,
   "id": "771430f0-cacf-40e1-8220-ae7557933c6e",
   "metadata": {},
   "outputs": [],
   "source": [
    "m12 = pd.read_csv('data/m12.csv', index_col=0)"
   ]
  },
  {
   "cell_type": "code",
   "execution_count": 13,
   "id": "3a050062-01fa-4741-b24f-08e868c1b580",
   "metadata": {},
   "outputs": [],
   "source": [
    "m12[['A', 'A_err']] = m12[['A', 'A_err']] * 1e3"
   ]
  },
  {
   "cell_type": "markdown",
   "id": "e0c2f870-4747-496d-9d5a-d760af3f43cd",
   "metadata": {},
   "source": [
    "Let's compute the volumes from SLE:"
   ]
  },
  {
   "cell_type": "code",
   "execution_count": 14,
   "id": "f2991aac-4933-4b06-b202-45b88cdd9843",
   "metadata": {},
   "outputs": [],
   "source": [
    "m12['V'] = m12['SLE'] * 362 / 0.9\n",
    "m12['V_err'] = m12['SLE_err'] * 362 / 0.9"
   ]
  },
  {
   "cell_type": "code",
   "execution_count": 15,
   "id": "87946626-d40d-47f2-88e9-77596f797ea1",
   "metadata": {},
   "outputs": [
    {
     "data": {
      "text/html": [
       "<div>\n",
       "<style scoped>\n",
       "    .dataframe tbody tr th:only-of-type {\n",
       "        vertical-align: middle;\n",
       "    }\n",
       "\n",
       "    .dataframe tbody tr th {\n",
       "        vertical-align: top;\n",
       "    }\n",
       "\n",
       "    .dataframe thead th {\n",
       "        text-align: right;\n",
       "    }\n",
       "</style>\n",
       "<table border=\"1\" class=\"dataframe\">\n",
       "  <thead>\n",
       "    <tr style=\"text-align: right;\">\n",
       "      <th></th>\n",
       "      <th>A</th>\n",
       "      <th>A_err</th>\n",
       "      <th>V</th>\n",
       "      <th>V_err</th>\n",
       "      <th>SLE</th>\n",
       "      <th>SLE_err</th>\n",
       "    </tr>\n",
       "    <tr>\n",
       "      <th>RGI_Reg</th>\n",
       "      <th></th>\n",
       "      <th></th>\n",
       "      <th></th>\n",
       "      <th></th>\n",
       "      <th></th>\n",
       "      <th></th>\n",
       "    </tr>\n",
       "  </thead>\n",
       "  <tbody>\n",
       "    <tr>\n",
       "      <th>Total (without 19)</th>\n",
       "      <td>590900.0</td>\n",
       "      <td>1600.0</td>\n",
       "      <td>148983.111111</td>\n",
       "      <td>7521.555556</td>\n",
       "      <td>370.4</td>\n",
       "      <td>18.7</td>\n",
       "    </tr>\n",
       "  </tbody>\n",
       "</table>\n",
       "</div>"
      ],
      "text/plain": [
       "                           A   A_err              V        V_err    SLE  \\\n",
       "RGI_Reg                                                                   \n",
       "Total (without 19)  590900.0  1600.0  148983.111111  7521.555556  370.4   \n",
       "\n",
       "                    SLE_err  \n",
       "RGI_Reg                      \n",
       "Total (without 19)     18.7  "
      ]
     },
     "execution_count": 15,
     "metadata": {},
     "output_type": "execute_result"
    }
   ],
   "source": [
    "m12_total = m12.iloc[-1:].copy()\n",
    "m12_total"
   ]
  },
  {
   "cell_type": "code",
   "execution_count": 16,
   "id": "428f89f7-d606-4ee7-9f2b-66859071e06d",
   "metadata": {},
   "outputs": [
    {
     "data": {
      "text/html": [
       "<div>\n",
       "<style scoped>\n",
       "    .dataframe tbody tr th:only-of-type {\n",
       "        vertical-align: middle;\n",
       "    }\n",
       "\n",
       "    .dataframe tbody tr th {\n",
       "        vertical-align: top;\n",
       "    }\n",
       "\n",
       "    .dataframe thead th {\n",
       "        text-align: right;\n",
       "    }\n",
       "</style>\n",
       "<table border=\"1\" class=\"dataframe\">\n",
       "  <thead>\n",
       "    <tr style=\"text-align: right;\">\n",
       "      <th></th>\n",
       "      <th>A</th>\n",
       "      <th>A_err</th>\n",
       "      <th>V</th>\n",
       "      <th>V_err</th>\n",
       "      <th>SLE</th>\n",
       "      <th>SLE_err</th>\n",
       "    </tr>\n",
       "  </thead>\n",
       "  <tbody>\n",
       "    <tr>\n",
       "      <th>0</th>\n",
       "      <td>590800.0</td>\n",
       "      <td>3800.0</td>\n",
       "      <td>148942.888889</td>\n",
       "      <td>17617.333333</td>\n",
       "      <td>370.3</td>\n",
       "      <td>43.8</td>\n",
       "    </tr>\n",
       "  </tbody>\n",
       "</table>\n",
       "</div>"
      ],
      "text/plain": [
       "          A   A_err              V         V_err    SLE  SLE_err\n",
       "0  590800.0  3800.0  148942.888889  17617.333333  370.3     43.8"
      ]
     },
     "execution_count": 16,
     "metadata": {},
     "output_type": "execute_result"
    }
   ],
   "source": [
    "m12 = m12.iloc[:-1].copy()\n",
    "m12.index = [f'{int(c):02d}' for c in m12.index]\n",
    "m12.sum().to_frame().T"
   ]
  },
  {
   "cell_type": "code",
   "execution_count": 17,
   "id": "70a30976-560f-4278-9bf5-a809a73c6f68",
   "metadata": {},
   "outputs": [
    {
     "data": {
      "text/html": [
       "<div>\n",
       "<style scoped>\n",
       "    .dataframe tbody tr th:only-of-type {\n",
       "        vertical-align: middle;\n",
       "    }\n",
       "\n",
       "    .dataframe tbody tr th {\n",
       "        vertical-align: top;\n",
       "    }\n",
       "\n",
       "    .dataframe thead th {\n",
       "        text-align: right;\n",
       "    }\n",
       "</style>\n",
       "<table border=\"1\" class=\"dataframe\">\n",
       "  <thead>\n",
       "    <tr style=\"text-align: right;\">\n",
       "      <th></th>\n",
       "      <th>A_err</th>\n",
       "      <th>V_err</th>\n",
       "      <th>SLE_err</th>\n",
       "    </tr>\n",
       "  </thead>\n",
       "  <tbody>\n",
       "    <tr>\n",
       "      <th>0</th>\n",
       "      <td>1593.737745</td>\n",
       "      <td>7736.898923</td>\n",
       "      <td>19.235384</td>\n",
       "    </tr>\n",
       "  </tbody>\n",
       "</table>\n",
       "</div>"
      ],
      "text/plain": [
       "         A_err        V_err    SLE_err\n",
       "0  1593.737745  7736.898923  19.235384"
      ]
     },
     "execution_count": 17,
     "metadata": {},
     "output_type": "execute_result"
    }
   ],
   "source": [
    "((m12**2).sum()**0.5).loc[['A_err', 'V_err', 'SLE_err']].to_frame().T"
   ]
  },
  {
   "cell_type": "markdown",
   "id": "848710b5-32e0-4579-b3bd-5a1d37e511e7",
   "metadata": {},
   "source": [
    "OK Table is more or less consistent, **uncertainty estimates computed as uncorrelated.**"
   ]
  },
  {
   "cell_type": "markdown",
   "id": "78a86b21-5674-4c35-9746-dcf78dbb8828",
   "metadata": {},
   "source": [
    "**Volume without 05 and 19**:"
   ]
  },
  {
   "cell_type": "code",
   "execution_count": 18,
   "id": "73e79e19-f385-4385-bfa9-adf2bf02e873",
   "metadata": {},
   "outputs": [
    {
     "data": {
      "text/html": [
       "<div>\n",
       "<style scoped>\n",
       "    .dataframe tbody tr th:only-of-type {\n",
       "        vertical-align: middle;\n",
       "    }\n",
       "\n",
       "    .dataframe tbody tr th {\n",
       "        vertical-align: top;\n",
       "    }\n",
       "\n",
       "    .dataframe thead th {\n",
       "        text-align: right;\n",
       "    }\n",
       "</style>\n",
       "<table border=\"1\" class=\"dataframe\">\n",
       "  <thead>\n",
       "    <tr style=\"text-align: right;\">\n",
       "      <th></th>\n",
       "      <th>A</th>\n",
       "      <th>A_err</th>\n",
       "      <th>V</th>\n",
       "      <th>V_err</th>\n",
       "      <th>SLE</th>\n",
       "      <th>SLE_err</th>\n",
       "    </tr>\n",
       "  </thead>\n",
       "  <tbody>\n",
       "    <tr>\n",
       "      <th>0</th>\n",
       "      <td>504700.0</td>\n",
       "      <td>3700.0</td>\n",
       "      <td>137841.555556</td>\n",
       "      <td>15847.555556</td>\n",
       "      <td>342.7</td>\n",
       "      <td>39.4</td>\n",
       "    </tr>\n",
       "  </tbody>\n",
       "</table>\n",
       "</div>"
      ],
      "text/plain": [
       "          A   A_err              V         V_err    SLE  SLE_err\n",
       "0  504700.0  3700.0  137841.555556  15847.555556  342.7     39.4"
      ]
     },
     "execution_count": 18,
     "metadata": {},
     "output_type": "execute_result"
    }
   ],
   "source": [
    "m12_no5 = m12.drop('05')\n",
    "m12_no5_s = m12_no5.sum().to_frame().T\n",
    "m12_no5_s"
   ]
  },
  {
   "cell_type": "code",
   "execution_count": 19,
   "id": "74b3f3f8-5240-4ab0-947f-0968e2e8525e",
   "metadata": {},
   "outputs": [
    {
     "data": {
      "text/html": [
       "<div>\n",
       "<style scoped>\n",
       "    .dataframe tbody tr th:only-of-type {\n",
       "        vertical-align: middle;\n",
       "    }\n",
       "\n",
       "    .dataframe tbody tr th {\n",
       "        vertical-align: top;\n",
       "    }\n",
       "\n",
       "    .dataframe thead th {\n",
       "        text-align: right;\n",
       "    }\n",
       "</style>\n",
       "<table border=\"1\" class=\"dataframe\">\n",
       "  <thead>\n",
       "    <tr style=\"text-align: right;\">\n",
       "      <th></th>\n",
       "      <th>A_err</th>\n",
       "      <th>V_err</th>\n",
       "      <th>SLE_err</th>\n",
       "    </tr>\n",
       "  </thead>\n",
       "  <tbody>\n",
       "    <tr>\n",
       "      <th>0</th>\n",
       "      <td>1590.597372</td>\n",
       "      <td>7531.765501</td>\n",
       "      <td>18.725384</td>\n",
       "    </tr>\n",
       "  </tbody>\n",
       "</table>\n",
       "</div>"
      ],
      "text/plain": [
       "         A_err        V_err    SLE_err\n",
       "0  1590.597372  7531.765501  18.725384"
      ]
     },
     "execution_count": 19,
     "metadata": {},
     "output_type": "execute_result"
    }
   ],
   "source": [
    "err = ((m12_no5**2).sum()**0.5).loc[['A_err', 'V_err', 'SLE_err']].to_frame().T\n",
    "err"
   ]
  },
  {
   "cell_type": "code",
   "execution_count": 20,
   "id": "bb7a6e2e-2b89-47ce-b34b-918df222d001",
   "metadata": {},
   "outputs": [],
   "source": [
    "s = 'm12'\n",
    "gdf.loc['excl. A. & G.', f'{s}_V'] = m12_no5_s['V'].values\n",
    "gdf.loc['excl. A. & G.', f'{s}_V_err'] = err['V_err'].values\n",
    "gdf.loc['excl. A. & G.', f'{s}_SLE'] = m12_no5_s['SLE'].values * 1e-3\n",
    "gdf.loc['excl. A. & G.', f'{s}_SLE_err'] = err['SLE_err'].values * 1e-3"
   ]
  },
  {
   "cell_type": "markdown",
   "id": "b9f71fde-6d39-4665-a5fc-6365082cd515",
   "metadata": {},
   "source": [
    "### Huss & Farinotti 2012"
   ]
  },
  {
   "cell_type": "code",
   "execution_count": 174,
   "id": "cb775578-94ad-40dc-84e5-a375651b8717",
   "metadata": {},
   "outputs": [],
   "source": [
    "hf12 = pd.read_csv('data/hf12.csv', index_col=0).drop('Name', axis=1)"
   ]
  },
  {
   "cell_type": "code",
   "execution_count": 175,
   "id": "80e356a8-f8e2-405a-b25d-04dd4cd4db41",
   "metadata": {},
   "outputs": [
    {
     "data": {
      "text/html": [
       "<div>\n",
       "<style scoped>\n",
       "    .dataframe tbody tr th:only-of-type {\n",
       "        vertical-align: middle;\n",
       "    }\n",
       "\n",
       "    .dataframe tbody tr th {\n",
       "        vertical-align: top;\n",
       "    }\n",
       "\n",
       "    .dataframe thead th {\n",
       "        text-align: right;\n",
       "    }\n",
       "</style>\n",
       "<table border=\"1\" class=\"dataframe\">\n",
       "  <thead>\n",
       "    <tr style=\"text-align: right;\">\n",
       "      <th></th>\n",
       "      <th>A</th>\n",
       "      <th>V</th>\n",
       "      <th>V_err</th>\n",
       "      <th>SLE</th>\n",
       "      <th>SLE_err</th>\n",
       "    </tr>\n",
       "    <tr>\n",
       "      <th>RGI_Reg</th>\n",
       "      <th></th>\n",
       "      <th></th>\n",
       "      <th></th>\n",
       "      <th></th>\n",
       "      <th></th>\n",
       "    </tr>\n",
       "  </thead>\n",
       "  <tbody>\n",
       "    <tr>\n",
       "      <th>1</th>\n",
       "      <td>89901</td>\n",
       "      <td>20402</td>\n",
       "      <td>1501</td>\n",
       "      <td>50.7</td>\n",
       "      <td>3.7</td>\n",
       "    </tr>\n",
       "    <tr>\n",
       "      <th>2</th>\n",
       "      <td>14615</td>\n",
       "      <td>1025</td>\n",
       "      <td>84</td>\n",
       "      <td>2.5</td>\n",
       "      <td>0.2</td>\n",
       "    </tr>\n",
       "    <tr>\n",
       "      <th>3</th>\n",
       "      <td>105139</td>\n",
       "      <td>34399</td>\n",
       "      <td>4699</td>\n",
       "      <td>85.4</td>\n",
       "      <td>11.7</td>\n",
       "    </tr>\n",
       "    <tr>\n",
       "      <th>4</th>\n",
       "      <td>40893</td>\n",
       "      <td>9814</td>\n",
       "      <td>1115</td>\n",
       "      <td>24.4</td>\n",
       "      <td>2.8</td>\n",
       "    </tr>\n",
       "    <tr>\n",
       "      <th>5</th>\n",
       "      <td>87765</td>\n",
       "      <td>19042</td>\n",
       "      <td>2655</td>\n",
       "      <td>47.3</td>\n",
       "      <td>6.6</td>\n",
       "    </tr>\n",
       "    <tr>\n",
       "      <th>6</th>\n",
       "      <td>11055</td>\n",
       "      <td>4441</td>\n",
       "      <td>370</td>\n",
       "      <td>11.0</td>\n",
       "      <td>0.9</td>\n",
       "    </tr>\n",
       "    <tr>\n",
       "      <th>7</th>\n",
       "      <td>33932</td>\n",
       "      <td>9685</td>\n",
       "      <td>922</td>\n",
       "      <td>24.0</td>\n",
       "      <td>2.3</td>\n",
       "    </tr>\n",
       "    <tr>\n",
       "      <th>8</th>\n",
       "      <td>2846</td>\n",
       "      <td>256</td>\n",
       "      <td>19</td>\n",
       "      <td>0.6</td>\n",
       "      <td>0.0</td>\n",
       "    </tr>\n",
       "    <tr>\n",
       "      <th>9</th>\n",
       "      <td>51665</td>\n",
       "      <td>16839</td>\n",
       "      <td>2205</td>\n",
       "      <td>41.8</td>\n",
       "      <td>5.5</td>\n",
       "    </tr>\n",
       "    <tr>\n",
       "      <th>10</th>\n",
       "      <td>2816</td>\n",
       "      <td>140</td>\n",
       "      <td>15</td>\n",
       "      <td>0.3</td>\n",
       "      <td>0.0</td>\n",
       "    </tr>\n",
       "    <tr>\n",
       "      <th>11</th>\n",
       "      <td>2060</td>\n",
       "      <td>117</td>\n",
       "      <td>10</td>\n",
       "      <td>0.3</td>\n",
       "      <td>0.0</td>\n",
       "    </tr>\n",
       "    <tr>\n",
       "      <th>12</th>\n",
       "      <td>1121</td>\n",
       "      <td>61</td>\n",
       "      <td>6</td>\n",
       "      <td>0.2</td>\n",
       "      <td>0.0</td>\n",
       "    </tr>\n",
       "    <tr>\n",
       "      <th>13</th>\n",
       "      <td>64448</td>\n",
       "      <td>5026</td>\n",
       "      <td>503</td>\n",
       "      <td>12.5</td>\n",
       "      <td>1.2</td>\n",
       "    </tr>\n",
       "    <tr>\n",
       "      <th>14</th>\n",
       "      <td>33961</td>\n",
       "      <td>3241</td>\n",
       "      <td>287</td>\n",
       "      <td>8.0</td>\n",
       "      <td>0.7</td>\n",
       "    </tr>\n",
       "    <tr>\n",
       "      <th>15</th>\n",
       "      <td>21699</td>\n",
       "      <td>1312</td>\n",
       "      <td>119</td>\n",
       "      <td>3.3</td>\n",
       "      <td>0.3</td>\n",
       "    </tr>\n",
       "    <tr>\n",
       "      <th>16</th>\n",
       "      <td>4074</td>\n",
       "      <td>144</td>\n",
       "      <td>16</td>\n",
       "      <td>0.4</td>\n",
       "      <td>0.0</td>\n",
       "    </tr>\n",
       "    <tr>\n",
       "      <th>17</th>\n",
       "      <td>32521</td>\n",
       "      <td>6674</td>\n",
       "      <td>507</td>\n",
       "      <td>16.6</td>\n",
       "      <td>1.3</td>\n",
       "    </tr>\n",
       "    <tr>\n",
       "      <th>18</th>\n",
       "      <td>1160</td>\n",
       "      <td>70</td>\n",
       "      <td>5</td>\n",
       "      <td>0.2</td>\n",
       "      <td>0.0</td>\n",
       "    </tr>\n",
       "    <tr>\n",
       "      <th>19</th>\n",
       "      <td>133173</td>\n",
       "      <td>37517</td>\n",
       "      <td>8402</td>\n",
       "      <td>93.1</td>\n",
       "      <td>20.9</td>\n",
       "    </tr>\n",
       "    <tr>\n",
       "      <th>Total</th>\n",
       "      <td>734856</td>\n",
       "      <td>170214</td>\n",
       "      <td>20688</td>\n",
       "      <td>422.6</td>\n",
       "      <td>57.1</td>\n",
       "    </tr>\n",
       "  </tbody>\n",
       "</table>\n",
       "</div>"
      ],
      "text/plain": [
       "              A       V  V_err    SLE  SLE_err\n",
       "RGI_Reg                                       \n",
       "1         89901   20402   1501   50.7      3.7\n",
       "2         14615    1025     84    2.5      0.2\n",
       "3        105139   34399   4699   85.4     11.7\n",
       "4         40893    9814   1115   24.4      2.8\n",
       "5         87765   19042   2655   47.3      6.6\n",
       "6         11055    4441    370   11.0      0.9\n",
       "7         33932    9685    922   24.0      2.3\n",
       "8          2846     256     19    0.6      0.0\n",
       "9         51665   16839   2205   41.8      5.5\n",
       "10         2816     140     15    0.3      0.0\n",
       "11         2060     117     10    0.3      0.0\n",
       "12         1121      61      6    0.2      0.0\n",
       "13        64448    5026    503   12.5      1.2\n",
       "14        33961    3241    287    8.0      0.7\n",
       "15        21699    1312    119    3.3      0.3\n",
       "16         4074     144     16    0.4      0.0\n",
       "17        32521    6674    507   16.6      1.3\n",
       "18         1160      70      5    0.2      0.0\n",
       "19       133173   37517   8402   93.1     20.9\n",
       "Total    734856  170214  20688  422.6     57.1"
      ]
     },
     "execution_count": 175,
     "metadata": {},
     "output_type": "execute_result"
    }
   ],
   "source": [
    "hf12"
   ]
  },
  {
   "cell_type": "code",
   "execution_count": 22,
   "id": "e5059ddf-dc18-4a2e-a0c6-542437319740",
   "metadata": {},
   "outputs": [
    {
     "data": {
      "text/html": [
       "<div>\n",
       "<style scoped>\n",
       "    .dataframe tbody tr th:only-of-type {\n",
       "        vertical-align: middle;\n",
       "    }\n",
       "\n",
       "    .dataframe tbody tr th {\n",
       "        vertical-align: top;\n",
       "    }\n",
       "\n",
       "    .dataframe thead th {\n",
       "        text-align: right;\n",
       "    }\n",
       "</style>\n",
       "<table border=\"1\" class=\"dataframe\">\n",
       "  <thead>\n",
       "    <tr style=\"text-align: right;\">\n",
       "      <th></th>\n",
       "      <th>A</th>\n",
       "      <th>V</th>\n",
       "      <th>V_err</th>\n",
       "      <th>SLE</th>\n",
       "      <th>SLE_err</th>\n",
       "    </tr>\n",
       "    <tr>\n",
       "      <th>RGI_Reg</th>\n",
       "      <th></th>\n",
       "      <th></th>\n",
       "      <th></th>\n",
       "      <th></th>\n",
       "      <th></th>\n",
       "    </tr>\n",
       "  </thead>\n",
       "  <tbody>\n",
       "    <tr>\n",
       "      <th>Total</th>\n",
       "      <td>734856</td>\n",
       "      <td>170214</td>\n",
       "      <td>20688</td>\n",
       "      <td>422.6</td>\n",
       "      <td>57.1</td>\n",
       "    </tr>\n",
       "  </tbody>\n",
       "</table>\n",
       "</div>"
      ],
      "text/plain": [
       "              A       V  V_err    SLE  SLE_err\n",
       "RGI_Reg                                       \n",
       "Total    734856  170214  20688  422.6     57.1"
      ]
     },
     "execution_count": 22,
     "metadata": {},
     "output_type": "execute_result"
    }
   ],
   "source": [
    "hf12_total = hf12.iloc[[-1]].copy()\n",
    "hf12_total"
   ]
  },
  {
   "cell_type": "code",
   "execution_count": 23,
   "id": "16b050f5-9ea4-4ef0-b3e3-f1896c8dd295",
   "metadata": {},
   "outputs": [
    {
     "data": {
      "text/html": [
       "<div>\n",
       "<style scoped>\n",
       "    .dataframe tbody tr th:only-of-type {\n",
       "        vertical-align: middle;\n",
       "    }\n",
       "\n",
       "    .dataframe tbody tr th {\n",
       "        vertical-align: top;\n",
       "    }\n",
       "\n",
       "    .dataframe thead th {\n",
       "        text-align: right;\n",
       "    }\n",
       "</style>\n",
       "<table border=\"1\" class=\"dataframe\">\n",
       "  <thead>\n",
       "    <tr style=\"text-align: right;\">\n",
       "      <th></th>\n",
       "      <th>A</th>\n",
       "      <th>V</th>\n",
       "      <th>V_err</th>\n",
       "      <th>SLE</th>\n",
       "      <th>SLE_err</th>\n",
       "    </tr>\n",
       "  </thead>\n",
       "  <tbody>\n",
       "    <tr>\n",
       "      <th>0</th>\n",
       "      <td>734844.0</td>\n",
       "      <td>170205.0</td>\n",
       "      <td>23440.0</td>\n",
       "      <td>422.6</td>\n",
       "      <td>58.1</td>\n",
       "    </tr>\n",
       "  </tbody>\n",
       "</table>\n",
       "</div>"
      ],
      "text/plain": [
       "          A         V    V_err    SLE  SLE_err\n",
       "0  734844.0  170205.0  23440.0  422.6     58.1"
      ]
     },
     "execution_count": 23,
     "metadata": {},
     "output_type": "execute_result"
    }
   ],
   "source": [
    "hf12 = hf12.iloc[:-1].copy()\n",
    "hf12.index = [f'{int(c):02d}' for c in hf12.index]\n",
    "hf12.sum().to_frame().T"
   ]
  },
  {
   "cell_type": "markdown",
   "id": "82b65ef5-d8e6-4be3-8393-e32a81a586d2",
   "metadata": {},
   "source": [
    "OK Table is more or less consistent."
   ]
  },
  {
   "cell_type": "markdown",
   "id": "66009abb-d500-4046-8c21-5c242681ba0d",
   "metadata": {},
   "source": [
    "**Volume without 05 and 19**:"
   ]
  },
  {
   "cell_type": "code",
   "execution_count": 24,
   "id": "e3f708f6-8b07-4052-98a4-6e267abe9931",
   "metadata": {},
   "outputs": [
    {
     "data": {
      "text/html": [
       "<div>\n",
       "<style scoped>\n",
       "    .dataframe tbody tr th:only-of-type {\n",
       "        vertical-align: middle;\n",
       "    }\n",
       "\n",
       "    .dataframe tbody tr th {\n",
       "        vertical-align: top;\n",
       "    }\n",
       "\n",
       "    .dataframe thead th {\n",
       "        text-align: right;\n",
       "    }\n",
       "</style>\n",
       "<table border=\"1\" class=\"dataframe\">\n",
       "  <thead>\n",
       "    <tr style=\"text-align: right;\">\n",
       "      <th></th>\n",
       "      <th>A</th>\n",
       "      <th>V</th>\n",
       "      <th>V_err</th>\n",
       "      <th>SLE</th>\n",
       "      <th>SLE_err</th>\n",
       "    </tr>\n",
       "  </thead>\n",
       "  <tbody>\n",
       "    <tr>\n",
       "      <th>0</th>\n",
       "      <td>513906.0</td>\n",
       "      <td>113646.0</td>\n",
       "      <td>12383.0</td>\n",
       "      <td>282.2</td>\n",
       "      <td>30.6</td>\n",
       "    </tr>\n",
       "  </tbody>\n",
       "</table>\n",
       "</div>"
      ],
      "text/plain": [
       "          A         V    V_err    SLE  SLE_err\n",
       "0  513906.0  113646.0  12383.0  282.2     30.6"
      ]
     },
     "execution_count": 24,
     "metadata": {},
     "output_type": "execute_result"
    }
   ],
   "source": [
    "hf12_no = hf12.drop(['05', '19'])\n",
    "hf12_no_s = hf12_no.sum().to_frame().T\n",
    "hf12_no_s"
   ]
  },
  {
   "cell_type": "code",
   "execution_count": 25,
   "id": "a0756768-177e-4fdc-b957-a3629cbcc45b",
   "metadata": {},
   "outputs": [],
   "source": [
    "s = 'hf12'\n",
    "gdf.loc['Global', f'{s}_V'] = hf12_total['V'].values\n",
    "gdf.loc['Global', f'{s}_V_err'] = hf12_total['V_err'].values\n",
    "gdf.loc['Global', f'{s}_SLE'] = hf12_total['SLE'].values\n",
    "gdf.loc['Global', f'{s}_SLE_err'] = hf12_total['SLE_err'].values\n",
    "gdf.loc['excl. A. & G.', f'{s}_V'] = hf12_no_s['V'].values\n",
    "gdf.loc['excl. A. & G.', f'{s}_V_err'] = hf12_no_s['V_err'].values\n",
    "gdf.loc['excl. A. & G.', f'{s}_SLE'] = hf12_no_s['SLE'].values * 1e-3\n",
    "gdf.loc['excl. A. & G.', f'{s}_SLE_err'] = hf12_no_s['SLE_err'].values * 1e-3"
   ]
  },
  {
   "cell_type": "markdown",
   "id": "f0b10e78-b82e-48fb-b55a-cd3304fa6462",
   "metadata": {},
   "source": [
    "### Grinsted, 2013"
   ]
  },
  {
   "cell_type": "code",
   "execution_count": 26,
   "id": "ad7f8df9-12ff-4ccd-bb55-0fa92ece2f07",
   "metadata": {},
   "outputs": [],
   "source": [
    "g13 = pd.read_csv('data/g13.csv', index_col=0)"
   ]
  },
  {
   "cell_type": "markdown",
   "id": "0f7a4278-82db-42f1-8e54-d6dfdaf35e1a",
   "metadata": {},
   "source": [
    "Let's compute the volumes from SLE:"
   ]
  },
  {
   "cell_type": "code",
   "execution_count": 27,
   "id": "f3eb6eb2-5932-4896-bb9c-c96078ac1c12",
   "metadata": {},
   "outputs": [],
   "source": [
    "g13['V'] = g13['SLE'] * 362 / 0.9\n",
    "g13['V_err'] = g13['SLE_err'] * 362 / 0.9"
   ]
  },
  {
   "cell_type": "code",
   "execution_count": 28,
   "id": "c46c5a2e-c110-407a-b640-cf22a589340a",
   "metadata": {},
   "outputs": [
    {
     "data": {
      "text/html": [
       "<div>\n",
       "<style scoped>\n",
       "    .dataframe tbody tr th:only-of-type {\n",
       "        vertical-align: middle;\n",
       "    }\n",
       "\n",
       "    .dataframe tbody tr th {\n",
       "        vertical-align: top;\n",
       "    }\n",
       "\n",
       "    .dataframe thead th {\n",
       "        text-align: right;\n",
       "    }\n",
       "</style>\n",
       "<table border=\"1\" class=\"dataframe\">\n",
       "  <thead>\n",
       "    <tr style=\"text-align: right;\">\n",
       "      <th></th>\n",
       "      <th>A</th>\n",
       "      <th>V</th>\n",
       "      <th>V_err</th>\n",
       "      <th>SLE</th>\n",
       "      <th>SLE_err</th>\n",
       "    </tr>\n",
       "    <tr>\n",
       "      <th>RGI_Reg</th>\n",
       "      <th></th>\n",
       "      <th></th>\n",
       "      <th></th>\n",
       "      <th></th>\n",
       "      <th></th>\n",
       "    </tr>\n",
       "  </thead>\n",
       "  <tbody>\n",
       "    <tr>\n",
       "      <th>Total</th>\n",
       "      <td>734933</td>\n",
       "      <td>140777.777778</td>\n",
       "      <td>28155.555556</td>\n",
       "      <td>350.0</td>\n",
       "      <td>70.0</td>\n",
       "    </tr>\n",
       "    <tr>\n",
       "      <th>Withouth 5+19</th>\n",
       "      <td>513881</td>\n",
       "      <td>92511.111111</td>\n",
       "      <td>NaN</td>\n",
       "      <td>230.0</td>\n",
       "      <td>NaN</td>\n",
       "    </tr>\n",
       "  </tbody>\n",
       "</table>\n",
       "</div>"
      ],
      "text/plain": [
       "                    A              V         V_err    SLE  SLE_err\n",
       "RGI_Reg                                                           \n",
       "Total          734933  140777.777778  28155.555556  350.0     70.0\n",
       "Withouth 5+19  513881   92511.111111           NaN  230.0      NaN"
      ]
     },
     "execution_count": 28,
     "metadata": {},
     "output_type": "execute_result"
    }
   ],
   "source": [
    "g13_total = g13.iloc[-2:].copy()\n",
    "g13_total"
   ]
  },
  {
   "cell_type": "code",
   "execution_count": 29,
   "id": "904c6409-1a9e-472a-b37a-7b0187438e7a",
   "metadata": {},
   "outputs": [
    {
     "data": {
      "text/html": [
       "<div>\n",
       "<style scoped>\n",
       "    .dataframe tbody tr th:only-of-type {\n",
       "        vertical-align: middle;\n",
       "    }\n",
       "\n",
       "    .dataframe tbody tr th {\n",
       "        vertical-align: top;\n",
       "    }\n",
       "\n",
       "    .dataframe thead th {\n",
       "        text-align: right;\n",
       "    }\n",
       "</style>\n",
       "<table border=\"1\" class=\"dataframe\">\n",
       "  <thead>\n",
       "    <tr style=\"text-align: right;\">\n",
       "      <th></th>\n",
       "      <th>A</th>\n",
       "      <th>V</th>\n",
       "      <th>V_err</th>\n",
       "      <th>SLE</th>\n",
       "      <th>SLE_err</th>\n",
       "    </tr>\n",
       "  </thead>\n",
       "  <tbody>\n",
       "    <tr>\n",
       "      <th>0</th>\n",
       "      <td>734937.0</td>\n",
       "      <td>142145.333333</td>\n",
       "      <td>0.0</td>\n",
       "      <td>353.4</td>\n",
       "      <td>0.0</td>\n",
       "    </tr>\n",
       "  </tbody>\n",
       "</table>\n",
       "</div>"
      ],
      "text/plain": [
       "          A              V  V_err    SLE  SLE_err\n",
       "0  734937.0  142145.333333    0.0  353.4      0.0"
      ]
     },
     "execution_count": 29,
     "metadata": {},
     "output_type": "execute_result"
    }
   ],
   "source": [
    "g13 = g13.iloc[:-2].copy()\n",
    "g13.index = [f'{int(c):02d}' for c in g13.index]\n",
    "g13.sum().to_frame().T"
   ]
  },
  {
   "cell_type": "markdown",
   "id": "d0e25249-8a02-4247-8522-0fac8f640b5a",
   "metadata": {},
   "source": [
    "OK Table is more or less consistent."
   ]
  },
  {
   "cell_type": "markdown",
   "id": "ff260bef-407a-4d4c-a76c-5079fd63fd6c",
   "metadata": {},
   "source": [
    "**Volume without 05 and 19**:"
   ]
  },
  {
   "cell_type": "code",
   "execution_count": 30,
   "id": "32bdfc82-f6c8-4400-9fda-91fd711c4ca2",
   "metadata": {},
   "outputs": [
    {
     "data": {
      "text/html": [
       "<div>\n",
       "<style scoped>\n",
       "    .dataframe tbody tr th:only-of-type {\n",
       "        vertical-align: middle;\n",
       "    }\n",
       "\n",
       "    .dataframe tbody tr th {\n",
       "        vertical-align: top;\n",
       "    }\n",
       "\n",
       "    .dataframe thead th {\n",
       "        text-align: right;\n",
       "    }\n",
       "</style>\n",
       "<table border=\"1\" class=\"dataframe\">\n",
       "  <thead>\n",
       "    <tr style=\"text-align: right;\">\n",
       "      <th></th>\n",
       "      <th>A</th>\n",
       "      <th>V</th>\n",
       "      <th>V_err</th>\n",
       "      <th>SLE</th>\n",
       "      <th>SLE_err</th>\n",
       "    </tr>\n",
       "  </thead>\n",
       "  <tbody>\n",
       "    <tr>\n",
       "      <th>0</th>\n",
       "      <td>513881.0</td>\n",
       "      <td>93034.0</td>\n",
       "      <td>0.0</td>\n",
       "      <td>231.3</td>\n",
       "      <td>0.0</td>\n",
       "    </tr>\n",
       "  </tbody>\n",
       "</table>\n",
       "</div>"
      ],
      "text/plain": [
       "          A        V  V_err    SLE  SLE_err\n",
       "0  513881.0  93034.0    0.0  231.3      0.0"
      ]
     },
     "execution_count": 30,
     "metadata": {},
     "output_type": "execute_result"
    }
   ],
   "source": [
    "g13_no = g13.drop(['05', '19'])\n",
    "g13_no_s = g13_no.sum().to_frame().T\n",
    "g13_no_s"
   ]
  },
  {
   "cell_type": "code",
   "execution_count": 150,
   "id": "8136a623-5831-46f7-85f6-7a1f7b593145",
   "metadata": {},
   "outputs": [],
   "source": [
    "s = 'g13'\n",
    "gdf.loc['Global', f'{s}_V'] = g13_total.loc['Total', 'V']\n",
    "gdf.loc['Global', f'{s}_V_err'] = g13_total.loc['Total','V_err']\n",
    "gdf.loc['Global', f'{s}_SLE'] = g13_total.loc['Total','SLE']\n",
    "gdf.loc['Global', f'{s}_SLE_err'] = g13_total.loc['Total','SLE_err']\n",
    "gdf.loc['excl. A. & G.', f'{s}_V'] = g13_total.loc['Withouth 5+19','V']\n",
    "gdf.loc['excl. A. & G.', f'{s}_V_err'] = g13_total.loc['Withouth 5+19','V_err']\n",
    "gdf.loc['excl. A. & G.', f'{s}_SLE'] = g13_total.loc['Withouth 5+19','SLE']\n",
    "gdf.loc['excl. A. & G.', f'{s}_SLE_err'] = g13_total.loc['Withouth 5+19','SLE_err']"
   ]
  },
  {
   "cell_type": "markdown",
   "id": "de42b150-6f99-466a-85aa-93c0ccbbec73",
   "metadata": {},
   "source": [
    "### Radic et al., 2014"
   ]
  },
  {
   "cell_type": "code",
   "execution_count": 32,
   "id": "66ff7d70-e405-4eb8-bb5c-c81ecebbb205",
   "metadata": {},
   "outputs": [],
   "source": [
    "r14 = pd.read_csv('data/r14.csv', index_col=0)"
   ]
  },
  {
   "cell_type": "code",
   "execution_count": 33,
   "id": "45c3cd69-ae22-4a32-8946-034a51c762ac",
   "metadata": {},
   "outputs": [
    {
     "data": {
      "text/html": [
       "<div>\n",
       "<style scoped>\n",
       "    .dataframe tbody tr th:only-of-type {\n",
       "        vertical-align: middle;\n",
       "    }\n",
       "\n",
       "    .dataframe tbody tr th {\n",
       "        vertical-align: top;\n",
       "    }\n",
       "\n",
       "    .dataframe thead th {\n",
       "        text-align: right;\n",
       "    }\n",
       "</style>\n",
       "<table border=\"1\" class=\"dataframe\">\n",
       "  <thead>\n",
       "    <tr style=\"text-align: right;\">\n",
       "      <th></th>\n",
       "      <th>A</th>\n",
       "      <th>V</th>\n",
       "      <th>V_err</th>\n",
       "      <th>SLE</th>\n",
       "      <th>SLE_err</th>\n",
       "      <th>V*</th>\n",
       "      <th>SLE*</th>\n",
       "    </tr>\n",
       "    <tr>\n",
       "      <th>RGI_Reg</th>\n",
       "      <th></th>\n",
       "      <th></th>\n",
       "      <th></th>\n",
       "      <th></th>\n",
       "      <th></th>\n",
       "      <th></th>\n",
       "      <th></th>\n",
       "    </tr>\n",
       "  </thead>\n",
       "  <tbody>\n",
       "    <tr>\n",
       "      <th>Total</th>\n",
       "      <td>736989</td>\n",
       "      <td>209973</td>\n",
       "      <td>NaN</td>\n",
       "      <td>522.0</td>\n",
       "      <td>NaN</td>\n",
       "      <td>163277</td>\n",
       "      <td>405.9</td>\n",
       "    </tr>\n",
       "  </tbody>\n",
       "</table>\n",
       "</div>"
      ],
      "text/plain": [
       "              A       V  V_err    SLE  SLE_err      V*   SLE*\n",
       "RGI_Reg                                                      \n",
       "Total    736989  209973    NaN  522.0      NaN  163277  405.9"
      ]
     },
     "execution_count": 33,
     "metadata": {},
     "output_type": "execute_result"
    }
   ],
   "source": [
    "r14_total = r14.iloc[[-1]].copy()\n",
    "r14_total"
   ]
  },
  {
   "cell_type": "code",
   "execution_count": 34,
   "id": "e02d5788-cf10-43ea-b2be-28c0e535fe3e",
   "metadata": {},
   "outputs": [
    {
     "data": {
      "text/html": [
       "<div>\n",
       "<style scoped>\n",
       "    .dataframe tbody tr th:only-of-type {\n",
       "        vertical-align: middle;\n",
       "    }\n",
       "\n",
       "    .dataframe tbody tr th {\n",
       "        vertical-align: top;\n",
       "    }\n",
       "\n",
       "    .dataframe thead th {\n",
       "        text-align: right;\n",
       "    }\n",
       "</style>\n",
       "<table border=\"1\" class=\"dataframe\">\n",
       "  <thead>\n",
       "    <tr style=\"text-align: right;\">\n",
       "      <th></th>\n",
       "      <th>A</th>\n",
       "      <th>V</th>\n",
       "      <th>V_err</th>\n",
       "      <th>SLE</th>\n",
       "      <th>SLE_err</th>\n",
       "      <th>V*</th>\n",
       "      <th>SLE*</th>\n",
       "    </tr>\n",
       "  </thead>\n",
       "  <tbody>\n",
       "    <tr>\n",
       "      <th>0</th>\n",
       "      <td>736988.0</td>\n",
       "      <td>209973.0</td>\n",
       "      <td>0.0</td>\n",
       "      <td>522.1</td>\n",
       "      <td>0.0</td>\n",
       "      <td>163276.0</td>\n",
       "      <td>405.9</td>\n",
       "    </tr>\n",
       "  </tbody>\n",
       "</table>\n",
       "</div>"
      ],
      "text/plain": [
       "          A         V  V_err    SLE  SLE_err        V*   SLE*\n",
       "0  736988.0  209973.0    0.0  522.1      0.0  163276.0  405.9"
      ]
     },
     "execution_count": 34,
     "metadata": {},
     "output_type": "execute_result"
    }
   ],
   "source": [
    "r14 = r14.iloc[:-1].copy()\n",
    "r14.index = [f'{int(c):02d}' for c in r14.index]\n",
    "r14_s = r14.sum().to_frame().T\n",
    "r14_s"
   ]
  },
  {
   "cell_type": "markdown",
   "id": "f98490b2-540a-4537-ba8a-53bb5fcbb60a",
   "metadata": {},
   "source": [
    "OK Table is consistent."
   ]
  },
  {
   "cell_type": "markdown",
   "id": "c50385fc-0a4e-44c9-9c16-a279d13ca271",
   "metadata": {},
   "source": [
    "**Volume without 05 and 19**:"
   ]
  },
  {
   "cell_type": "code",
   "execution_count": 35,
   "id": "25e88ef4-c2b6-44b4-8fcf-3b5fd6a40ef0",
   "metadata": {},
   "outputs": [
    {
     "data": {
      "text/html": [
       "<div>\n",
       "<style scoped>\n",
       "    .dataframe tbody tr th:only-of-type {\n",
       "        vertical-align: middle;\n",
       "    }\n",
       "\n",
       "    .dataframe tbody tr th {\n",
       "        vertical-align: top;\n",
       "    }\n",
       "\n",
       "    .dataframe thead th {\n",
       "        text-align: right;\n",
       "    }\n",
       "</style>\n",
       "<table border=\"1\" class=\"dataframe\">\n",
       "  <thead>\n",
       "    <tr style=\"text-align: right;\">\n",
       "      <th></th>\n",
       "      <th>A</th>\n",
       "      <th>V</th>\n",
       "      <th>V_err</th>\n",
       "      <th>SLE</th>\n",
       "      <th>SLE_err</th>\n",
       "      <th>V*</th>\n",
       "      <th>SLE*</th>\n",
       "    </tr>\n",
       "  </thead>\n",
       "  <tbody>\n",
       "    <tr>\n",
       "      <th>0</th>\n",
       "      <td>516311.0</td>\n",
       "      <td>144207.0</td>\n",
       "      <td>0.0</td>\n",
       "      <td>358.6</td>\n",
       "      <td>0.0</td>\n",
       "      <td>101052.0</td>\n",
       "      <td>251.2</td>\n",
       "    </tr>\n",
       "  </tbody>\n",
       "</table>\n",
       "</div>"
      ],
      "text/plain": [
       "          A         V  V_err    SLE  SLE_err        V*   SLE*\n",
       "0  516311.0  144207.0    0.0  358.6      0.0  101052.0  251.2"
      ]
     },
     "execution_count": 35,
     "metadata": {},
     "output_type": "execute_result"
    }
   ],
   "source": [
    "r14_no = r14.drop(['05', '19'])\n",
    "r14_no_s = r14_no.sum().to_frame().T\n",
    "r14_no_s"
   ]
  },
  {
   "cell_type": "code",
   "execution_count": 36,
   "id": "a0658965-92a2-47d5-ab7a-601d4c9a5f97",
   "metadata": {},
   "outputs": [],
   "source": [
    "# s = 'r14'\n",
    "# gdf.loc['Global', f'{s}_V'] = r14_total['V'].values\n",
    "# gdf.loc['Global', f'{s}_V_err'] = r14_total['V_err'].values\n",
    "# gdf.loc['Global', f'{s}_SLE'] = r14_total['SLE'].values\n",
    "# gdf.loc['Global', f'{s}_SLE_err'] = r14_total['SLE_err'].values\n",
    "# gdf.loc['excl. A. & G.', f'{s}_V'] = r14_no_s['V'].values\n",
    "# gdf.loc['excl. A. & G.', f'{s}_V_err'] = np.NaN\n",
    "# gdf.loc['excl. A. & G.', f'{s}_SLE'] = r14_no_s['SLE'].values * 1e-3\n",
    "# gdf.loc['excl. A. & G.', f'{s}_SLE_err'] = np.NaN"
   ]
  },
  {
   "cell_type": "markdown",
   "id": "1322dff1-b18e-4d19-aa69-9c17d3300435",
   "metadata": {},
   "source": [
    "### Farinotti et al., 2019 "
   ]
  },
  {
   "cell_type": "code",
   "execution_count": 53,
   "id": "050716a9-993a-4453-8ff0-1c0d6810dfe5",
   "metadata": {},
   "outputs": [],
   "source": [
    "f19 = pd.read_csv('data/f19.csv', index_col=0)\n",
    "f19[['V', 'V_err']] = f19[['V', 'V_err']] * 1e3"
   ]
  },
  {
   "cell_type": "code",
   "execution_count": 54,
   "id": "0ed340e2-fc98-40c1-94a1-9e21b3c4bfb2",
   "metadata": {},
   "outputs": [
    {
     "data": {
      "text/html": [
       "<div>\n",
       "<style scoped>\n",
       "    .dataframe tbody tr th:only-of-type {\n",
       "        vertical-align: middle;\n",
       "    }\n",
       "\n",
       "    .dataframe tbody tr th {\n",
       "        vertical-align: top;\n",
       "    }\n",
       "\n",
       "    .dataframe thead th {\n",
       "        text-align: right;\n",
       "    }\n",
       "</style>\n",
       "<table border=\"1\" class=\"dataframe\">\n",
       "  <thead>\n",
       "    <tr style=\"text-align: right;\">\n",
       "      <th></th>\n",
       "      <th>A</th>\n",
       "      <th>V</th>\n",
       "      <th>V_err</th>\n",
       "      <th>SLE</th>\n",
       "      <th>SLE_err</th>\n",
       "    </tr>\n",
       "    <tr>\n",
       "      <th>RGI_Reg</th>\n",
       "      <th></th>\n",
       "      <th></th>\n",
       "      <th></th>\n",
       "      <th></th>\n",
       "      <th></th>\n",
       "    </tr>\n",
       "  </thead>\n",
       "  <tbody>\n",
       "    <tr>\n",
       "      <th>Total</th>\n",
       "      <td>705253</td>\n",
       "      <td>158170.0</td>\n",
       "      <td>41030.0</td>\n",
       "      <td>324.3</td>\n",
       "      <td>84.1</td>\n",
       "    </tr>\n",
       "  </tbody>\n",
       "</table>\n",
       "</div>"
      ],
      "text/plain": [
       "              A         V    V_err    SLE  SLE_err\n",
       "RGI_Reg                                           \n",
       "Total    705253  158170.0  41030.0  324.3     84.1"
      ]
     },
     "execution_count": 54,
     "metadata": {},
     "output_type": "execute_result"
    }
   ],
   "source": [
    "f19_total = f19.iloc[[-1]].copy()\n",
    "f19_total"
   ]
  },
  {
   "cell_type": "code",
   "execution_count": 55,
   "id": "80de5b39-fa70-4b6b-8a3a-24ce97eda738",
   "metadata": {},
   "outputs": [
    {
     "data": {
      "text/html": [
       "<div>\n",
       "<style scoped>\n",
       "    .dataframe tbody tr th:only-of-type {\n",
       "        vertical-align: middle;\n",
       "    }\n",
       "\n",
       "    .dataframe tbody tr th {\n",
       "        vertical-align: top;\n",
       "    }\n",
       "\n",
       "    .dataframe thead th {\n",
       "        text-align: right;\n",
       "    }\n",
       "</style>\n",
       "<table border=\"1\" class=\"dataframe\">\n",
       "  <thead>\n",
       "    <tr style=\"text-align: right;\">\n",
       "      <th></th>\n",
       "      <th>A</th>\n",
       "      <th>V</th>\n",
       "      <th>V_err</th>\n",
       "      <th>SLE</th>\n",
       "      <th>SLE_err</th>\n",
       "    </tr>\n",
       "  </thead>\n",
       "  <tbody>\n",
       "    <tr>\n",
       "      <th>0</th>\n",
       "      <td>705245.0</td>\n",
       "      <td>158180.0</td>\n",
       "      <td>41050.0</td>\n",
       "      <td>324.2</td>\n",
       "      <td>84.0</td>\n",
       "    </tr>\n",
       "  </tbody>\n",
       "</table>\n",
       "</div>"
      ],
      "text/plain": [
       "          A         V    V_err    SLE  SLE_err\n",
       "0  705245.0  158180.0  41050.0  324.2     84.0"
      ]
     },
     "execution_count": 55,
     "metadata": {},
     "output_type": "execute_result"
    }
   ],
   "source": [
    "f19 = f19.iloc[:-1].copy()\n",
    "f19.sum().to_frame().T"
   ]
  },
  {
   "cell_type": "markdown",
   "id": "d7bf2e76-2896-42d2-a48a-982e358c1a6e",
   "metadata": {},
   "source": [
    "OK Table is consistent."
   ]
  },
  {
   "cell_type": "markdown",
   "id": "5768e096-5d5d-4bd6-98bd-7cd35620a366",
   "metadata": {},
   "source": [
    "**Volume without 05 and 19**:"
   ]
  },
  {
   "cell_type": "code",
   "execution_count": 56,
   "id": "865f904b-0d83-4f84-a9e9-ccb5ae0ea660",
   "metadata": {},
   "outputs": [
    {
     "data": {
      "text/html": [
       "<div>\n",
       "<style scoped>\n",
       "    .dataframe tbody tr th:only-of-type {\n",
       "        vertical-align: middle;\n",
       "    }\n",
       "\n",
       "    .dataframe tbody tr th {\n",
       "        vertical-align: top;\n",
       "    }\n",
       "\n",
       "    .dataframe thead th {\n",
       "        text-align: right;\n",
       "    }\n",
       "</style>\n",
       "<table border=\"1\" class=\"dataframe\">\n",
       "  <thead>\n",
       "    <tr style=\"text-align: right;\">\n",
       "      <th></th>\n",
       "      <th>A</th>\n",
       "      <th>V</th>\n",
       "      <th>V_err</th>\n",
       "      <th>SLE</th>\n",
       "      <th>SLE_err</th>\n",
       "    </tr>\n",
       "  </thead>\n",
       "  <tbody>\n",
       "    <tr>\n",
       "      <th>0</th>\n",
       "      <td>482823.0</td>\n",
       "      <td>96020.0</td>\n",
       "      <td>24920.0</td>\n",
       "      <td>221.2</td>\n",
       "      <td>57.3</td>\n",
       "    </tr>\n",
       "  </tbody>\n",
       "</table>\n",
       "</div>"
      ],
      "text/plain": [
       "          A        V    V_err    SLE  SLE_err\n",
       "0  482823.0  96020.0  24920.0  221.2     57.3"
      ]
     },
     "execution_count": 56,
     "metadata": {},
     "output_type": "execute_result"
    }
   ],
   "source": [
    "f19_no = f19.drop(['05', '19'])\n",
    "f19_no_s = f19_no.sum().to_frame().T\n",
    "f19_no_s"
   ]
  },
  {
   "cell_type": "code",
   "execution_count": 57,
   "id": "11d3a6c9-6e96-4fca-b819-214e948886a0",
   "metadata": {},
   "outputs": [],
   "source": [
    "s = 'f19'\n",
    "gdf.loc['Global', f'{s}_V'] = f19_total['V'].values\n",
    "gdf.loc['Global', f'{s}_V_err'] = f19_total['V_err'].values\n",
    "gdf.loc['Global', f'{s}_SLE'] = f19_total['SLE'].values\n",
    "gdf.loc['Global', f'{s}_SLE_err'] = f19_total['SLE_err'].values\n",
    "gdf.loc['excl. A. & G.', f'{s}_V'] = f19_no_s['V'].values\n",
    "gdf.loc['excl. A. & G.', f'{s}_V_err'] = f19_no_s['V_err'].values\n",
    "gdf.loc['excl. A. & G.', f'{s}_SLE'] = f19_no_s['SLE'].values * 1e-3\n",
    "gdf.loc['excl. A. & G.', f'{s}_SLE_err'] = f19_no_s['SLE_err'].values * 1e-3"
   ]
  },
  {
   "cell_type": "markdown",
   "id": "7a392365-7b0e-490d-ae94-7f8fe00b1536",
   "metadata": {},
   "source": [
    "### Millan et al., 2022"
   ]
  },
  {
   "cell_type": "code",
   "execution_count": 58,
   "id": "0985be91-bfb5-456d-9f2c-794a2c62926c",
   "metadata": {},
   "outputs": [],
   "source": [
    "m22 = pd.read_csv('data/m22.csv', index_col=0)\n",
    "m22[['A', 'V', 'V_err']] *= 1e3;"
   ]
  },
  {
   "cell_type": "code",
   "execution_count": 59,
   "id": "44c678fb-a66b-41f0-a3f8-e60d04460aac",
   "metadata": {},
   "outputs": [
    {
     "data": {
      "text/html": [
       "<div>\n",
       "<style scoped>\n",
       "    .dataframe tbody tr th:only-of-type {\n",
       "        vertical-align: middle;\n",
       "    }\n",
       "\n",
       "    .dataframe tbody tr th {\n",
       "        vertical-align: top;\n",
       "    }\n",
       "\n",
       "    .dataframe thead th {\n",
       "        text-align: right;\n",
       "    }\n",
       "</style>\n",
       "<table border=\"1\" class=\"dataframe\">\n",
       "  <thead>\n",
       "    <tr style=\"text-align: right;\">\n",
       "      <th></th>\n",
       "      <th>A</th>\n",
       "      <th>V</th>\n",
       "      <th>V_err</th>\n",
       "      <th>SLE</th>\n",
       "      <th>SLE_err</th>\n",
       "    </tr>\n",
       "    <tr>\n",
       "      <th>RGI_Reg</th>\n",
       "      <th></th>\n",
       "      <th></th>\n",
       "      <th></th>\n",
       "      <th></th>\n",
       "      <th></th>\n",
       "    </tr>\n",
       "  </thead>\n",
       "  <tbody>\n",
       "    <tr>\n",
       "      <th>Total</th>\n",
       "      <td>727000.0</td>\n",
       "      <td>140800.0</td>\n",
       "      <td>40400.0</td>\n",
       "      <td>257.2</td>\n",
       "      <td>85.0</td>\n",
       "    </tr>\n",
       "  </tbody>\n",
       "</table>\n",
       "</div>"
      ],
      "text/plain": [
       "                A         V    V_err    SLE  SLE_err\n",
       "RGI_Reg                                             \n",
       "Total    727000.0  140800.0  40400.0  257.2     85.0"
      ]
     },
     "execution_count": 59,
     "metadata": {},
     "output_type": "execute_result"
    }
   ],
   "source": [
    "m22_total = m22.iloc[[-1]].copy()\n",
    "m22_total"
   ]
  },
  {
   "cell_type": "code",
   "execution_count": 60,
   "id": "a66a0205-4d9b-4309-8f23-6a13c9b98d18",
   "metadata": {},
   "outputs": [
    {
     "data": {
      "text/html": [
       "<div>\n",
       "<style scoped>\n",
       "    .dataframe tbody tr th:only-of-type {\n",
       "        vertical-align: middle;\n",
       "    }\n",
       "\n",
       "    .dataframe tbody tr th {\n",
       "        vertical-align: top;\n",
       "    }\n",
       "\n",
       "    .dataframe thead th {\n",
       "        text-align: right;\n",
       "    }\n",
       "</style>\n",
       "<table border=\"1\" class=\"dataframe\">\n",
       "  <thead>\n",
       "    <tr style=\"text-align: right;\">\n",
       "      <th></th>\n",
       "      <th>A</th>\n",
       "      <th>V</th>\n",
       "      <th>V_err</th>\n",
       "      <th>SLE</th>\n",
       "      <th>SLE_err</th>\n",
       "    </tr>\n",
       "  </thead>\n",
       "  <tbody>\n",
       "    <tr>\n",
       "      <th>0</th>\n",
       "      <td>726000.0</td>\n",
       "      <td>140900.0</td>\n",
       "      <td>40400.0</td>\n",
       "      <td>311.23</td>\n",
       "      <td>99.4</td>\n",
       "    </tr>\n",
       "  </tbody>\n",
       "</table>\n",
       "</div>"
      ],
      "text/plain": [
       "          A         V    V_err     SLE  SLE_err\n",
       "0  726000.0  140900.0  40400.0  311.23     99.4"
      ]
     },
     "execution_count": 60,
     "metadata": {},
     "output_type": "execute_result"
    }
   ],
   "source": [
    "m22 = m22.iloc[:-1].copy()\n",
    "m22_s = m22.sum().to_frame().T\n",
    "m22_s"
   ]
  },
  {
   "cell_type": "markdown",
   "id": "eeadb83f-631e-4cf6-9cb7-883bf5800f0b",
   "metadata": {},
   "source": [
    "OK Table is more or less consistent, with the **problem of global SLE of course**."
   ]
  },
  {
   "cell_type": "markdown",
   "id": "c8b18017-eed1-4d2f-9915-e7660ab8d055",
   "metadata": {},
   "source": [
    "**Volume without 05 and 19**:"
   ]
  },
  {
   "cell_type": "code",
   "execution_count": 61,
   "id": "8dfbe3f8-8e0f-46c3-bfdd-802db83cb9db",
   "metadata": {},
   "outputs": [
    {
     "data": {
      "text/html": [
       "<div>\n",
       "<style scoped>\n",
       "    .dataframe tbody tr th:only-of-type {\n",
       "        vertical-align: middle;\n",
       "    }\n",
       "\n",
       "    .dataframe tbody tr th {\n",
       "        vertical-align: top;\n",
       "    }\n",
       "\n",
       "    .dataframe thead th {\n",
       "        text-align: right;\n",
       "    }\n",
       "</style>\n",
       "<table border=\"1\" class=\"dataframe\">\n",
       "  <thead>\n",
       "    <tr style=\"text-align: right;\">\n",
       "      <th></th>\n",
       "      <th>A</th>\n",
       "      <th>V</th>\n",
       "      <th>V_err</th>\n",
       "      <th>SLE</th>\n",
       "      <th>SLE_err</th>\n",
       "    </tr>\n",
       "  </thead>\n",
       "  <tbody>\n",
       "    <tr>\n",
       "      <th>0</th>\n",
       "      <td>503000.0</td>\n",
       "      <td>94000.0</td>\n",
       "      <td>27600.0</td>\n",
       "      <td>223.13</td>\n",
       "      <td>73.9</td>\n",
       "    </tr>\n",
       "  </tbody>\n",
       "</table>\n",
       "</div>"
      ],
      "text/plain": [
       "          A        V    V_err     SLE  SLE_err\n",
       "0  503000.0  94000.0  27600.0  223.13     73.9"
      ]
     },
     "execution_count": 61,
     "metadata": {},
     "output_type": "execute_result"
    }
   ],
   "source": [
    "m22_no = m22.drop(['05', '19'])\n",
    "m22_no_s = m22_no.sum().to_frame().T\n",
    "m22_no_s"
   ]
  },
  {
   "cell_type": "code",
   "execution_count": 62,
   "id": "739bcdc2-7607-4727-b884-06eb3b749240",
   "metadata": {},
   "outputs": [],
   "source": [
    "s = 'm22'\n",
    "gdf.loc['Global', f'{s}_V'] = m22_s['V'].values\n",
    "gdf.loc['Global', f'{s}_V_err'] = m22_s['V_err'].values\n",
    "gdf.loc['Global', f'{s}_SLE'] = m22_s['SLE'].values\n",
    "gdf.loc['Global', f'{s}_SLE_err'] = m22_s['SLE_err'].values\n",
    "gdf.loc['excl. A. & G.', f'{s}_V'] = m22_no_s['V'].values\n",
    "gdf.loc['excl. A. & G.', f'{s}_V_err'] = m22_no_s['V_err'].values\n",
    "gdf.loc['excl. A. & G.', f'{s}_SLE'] = m22_no_s['SLE'].values * 1e-3\n",
    "gdf.loc['excl. A. & G.', f'{s}_SLE_err'] = m22_no_s['SLE_err'].values * 1e-3"
   ]
  },
  {
   "cell_type": "markdown",
   "id": "443f2d01-f043-4e42-b7eb-672422a05da9",
   "metadata": {},
   "source": [
    "## Plot "
   ]
  },
  {
   "cell_type": "code",
   "execution_count": 152,
   "id": "941e0776-aaf1-4f70-b96f-ea7193758a34",
   "metadata": {},
   "outputs": [],
   "source": [
    "import seaborn as sns"
   ]
  },
  {
   "cell_type": "code",
   "execution_count": 153,
   "id": "f9f1c54a-7ed5-42f0-b10d-e4e6d0895730",
   "metadata": {},
   "outputs": [],
   "source": [
    "gdf_vol = gdf[[c for c in gdf if 'V' in c]].copy()\n",
    "estimates = [c.split('_')[0] for c in gdf_vol if 'err' not in c]"
   ]
  },
  {
   "cell_type": "code",
   "execution_count": 154,
   "id": "e2f67633-9e89-4724-8000-32fa8664606a",
   "metadata": {},
   "outputs": [
    {
     "name": "stdout",
     "output_type": "stream",
     "text": [
      "bm96 [180.  40.]\n",
      "o04 [nan nan]\n",
      "dm05 [260.  65.]\n",
      "rb05 [nan nan]\n",
      "rh10 [241.43   29.229]\n",
      "m12 [nan nan]\n",
      "hf12 [170.214  20.688]\n",
      "g13 [140.77777778  28.15555556]\n",
      "f19 [158.17  41.03]\n",
      "m22 [140.9  40.4]\n"
     ]
    }
   ],
   "source": [
    "for i, e in enumerate(estimates):\n",
    "    print(e, gdf_vol[[f'{e}_V', f'{e}_V_err']].iloc[0].values * 1e-3)"
   ]
  },
  {
   "cell_type": "code",
   "execution_count": 155,
   "id": "fe4b2130-26ce-41fa-afc0-248373df906b",
   "metadata": {},
   "outputs": [
    {
     "name": "stdout",
     "output_type": "stream",
     "text": [
      "bm96 [nan nan]\n",
      "o04 [56. nan]\n",
      "dm05 [133.  20.]\n",
      "rb05 [87. 10.]\n",
      "rh10 [164.043       13.34939905]\n",
      "m12 [137.84155556   7.5317655 ]\n",
      "hf12 [113.646  12.383]\n",
      "g13 [92.51111111         nan]\n",
      "f19 [96.02 24.92]\n",
      "m22 [94.  27.6]\n"
     ]
    }
   ],
   "source": [
    "for i, e in enumerate(estimates):\n",
    "    print(e, gdf_vol[[f'{e}_V', f'{e}_V_err']].iloc[1].values * 1e-3)"
   ]
  },
  {
   "cell_type": "code",
   "execution_count": 156,
   "id": "8f7b06d5-43e4-462b-bc41-7fd689451b17",
   "metadata": {},
   "outputs": [],
   "source": [
    "legend = {\n",
    "'bm96': 'Meier and Bahr, 1996',\n",
    "'o04': 'Ohmura, 2004',\n",
    "'dm05': 'Dyurgerov and Meier, 2005',\n",
    "'rb05': 'Raper and Braithwaite 2005',\n",
    "'rh10': 'Radic and Hock, 2010',\n",
    "'m12': 'Marzeion and others, 2012',\n",
    "'hf12': 'Huss and Farinotti, 2012',\n",
    "'g13': 'Grinsted, 2013',\n",
    "'f19': 'Farinotti and others, 2019',\n",
    "'m22': 'Millan and others, 2022',\n",
    "}"
   ]
  },
  {
   "cell_type": "code",
   "execution_count": 157,
   "id": "182fd2b3-f5c2-4a65-8ed4-3f74d28a4d85",
   "metadata": {},
   "outputs": [],
   "source": [
    "sns.set_context('talk')\n",
    "sns.set_style('whitegrid')"
   ]
  },
  {
   "cell_type": "code",
   "execution_count": 164,
   "id": "ebd8f79a-f719-4184-bd26-716107e59655",
   "metadata": {},
   "outputs": [],
   "source": [
    "import matplotlib.patches as patches"
   ]
  },
  {
   "cell_type": "code",
   "execution_count": 173,
   "id": "adffcd79-8b2a-400b-8ec4-5954deb9b902",
   "metadata": {},
   "outputs": [
    {
     "data": {
      "image/png": "[encoded data removed]",
      "text/plain": [
       "<Figure size 864x720 with 1 Axes>"
      ]
     },
     "metadata": {},
     "output_type": "display_data"
    }
   ],
   "source": [
    "f, ax = plt.subplots(figsize=(12, 10))\n",
    "\n",
    "x = np.array([1, 2])\n",
    "offset = np.linspace(-0.3, 0.3, len(estimates))\n",
    "\n",
    "p = sns.color_palette(\"deep\", as_cmap=True)\n",
    "\n",
    "xtext = 340\n",
    "\n",
    "gdf_vol.index = x\n",
    "\n",
    "for i, e in enumerate(estimates):\n",
    "    err = gdf_vol[f'{e}_V_err'] * 1e-3\n",
    "    if not np.isfinite(err.values[0]):\n",
    "        err=None\n",
    "    plt.errorbar(gdf_vol[f'{e}_V'] * 1e-3, x+offset[i], xerr=err, fmt='o', c=p[i]);\n",
    "    \n",
    "    if np.isfinite(gdf_vol[f'{e}_V'].values[0]):\n",
    "        alpha = 1\n",
    "    else:\n",
    "        alpha = 0.2\n",
    "        \n",
    "    plt.text(xtext, x[0]+offset[i], legend[e], c=p[i], va='center', fontsize=14, alpha=alpha)\n",
    "    \n",
    "    if np.isfinite(gdf_vol[f'{e}_V'].values[1]):\n",
    "        alpha = 1\n",
    "    else:\n",
    "        alpha = 0.2\n",
    "    plt.text(xtext, x[1]+offset[i], legend[e], c=p[i], va='center', fontsize=14, alpha=alpha)\n",
    "\n",
    "ax.set_yticks(x);\n",
    "ax.set_yticklabels(['Global', 'Excluding\\nAnt. & Gr.']);\n",
    "ax.invert_yaxis()\n",
    "\n",
    "ax.grid(axis='y')\n",
    "\n",
    "ax.set_xlim([-5, 330]);\n",
    "\n",
    "\n",
    "# Create a Rectangle patch\n",
    "rect = patches.Rectangle((-5, 1.45), 330, 0.1, linewidth=1, edgecolor='none', facecolor='white')\n",
    "# Add the patch to the Axes\n",
    "ax.add_patch(rect)\n",
    "\n",
    "\n",
    "# ax.set_xscale('log')\n",
    "ax.set_xlabel('Ice volume (10$^3$ km$^3$)')\n",
    "sns.despine(left=True)"
   ]
  },
  {
   "cell_type": "code",
   "execution_count": null,
   "id": "54083e68-a3aa-41cd-bb1b-8b792a77db0b",
   "metadata": {},
   "outputs": [],
   "source": [
    "offset(0)"
   ]
  },
  {
   "cell_type": "code",
   "execution_count": null,
   "id": "bc38c0f4-8e63-4ed6-8939-8b922e1500de",
   "metadata": {},
   "outputs": [],
   "source": [
    "import matplotlib.pyplot as plt\n",
    "import numpy as np; np.random.seed(0)\n",
    "import matplotlib.transforms as transforms\n",
    "\n",
    "year = np.random.choice(np.arange(2006,2017), size=(300) ) \n",
    "values = np.random.rand(300, 3)\n",
    "\n",
    "plt.figure()\n",
    "\n",
    "offset = lambda p: transforms.ScaledTranslation(p/72.,0, plt.gcf().dpi_scale_trans)\n",
    "trans = plt.gca().transData\n",
    "\n",
    "sc1 = plt.scatter(year, values[:,0], c = 'blue', s = 25, transform=trans+offset(-5))\n",
    "plt.scatter(year, values[:,1], c = 'orange', s = 25)\n",
    "plt.scatter(year, values[:,2], c = 'red', s = 25, transform=trans+offset(5))\n",
    "\n",
    "plt.show()"
   ]
  },
  {
   "cell_type": "markdown",
   "id": "2598d68b-7118-4f1f-99e9-8ad1a0997c7f",
   "metadata": {},
   "source": [
    "f, ax = plt.subplots(figsize=(14, 7))\n",
    "df.plot(ax=ax, y='V_f19', yerr='V_err_f19', marker='o', linestyle='none', alpha=0.8, c='C0');\n",
    "df.plot(ax=ax, y='V_m22', yerr='V_err_m22', marker='o', linestyle='none', alpha=0.8, c='C3');\n",
    "ax.set_yscale('log')\n",
    "plt.xticks(np.arange(len(df.index)));\n",
    "ax.set_xticklabels(df.index, rotation=45);\n",
    "plt.legend(['Farinotti 19', 'Millan 22'], loc='lower left'); plt.xlabel('Region'); plt.ylabel('Volume [km$^3$]');\n",
    "plt.title('Volume, log scale');"
   ]
  },
  {
   "cell_type": "code",
   "execution_count": null,
   "id": "d30da909-4146-44d2-9606-bd44d029163e",
   "metadata": {},
   "outputs": [],
   "source": []
  },
  {
   "cell_type": "code",
   "execution_count": null,
   "id": "9332ccf5-93e1-497c-898f-8d98bb9348d4",
   "metadata": {},
   "outputs": [],
   "source": []
  },
  {
   "cell_type": "code",
   "execution_count": null,
   "id": "6870009b-05c4-4361-adba-6a98eef6d263",
   "metadata": {},
   "outputs": [],
   "source": [
    "dff_reg"
   ]
  },
  {
   "cell_type": "code",
   "execution_count": null,
   "id": "fce1020c-1db0-4ccd-a3ce-e82882f72b78",
   "metadata": {},
   "outputs": [],
   "source": [
    "dff_reg.sum()"
   ]
  },
  {
   "cell_type": "code",
   "execution_count": null,
   "id": "c11f3fd0-9962-4436-8ce7-f69659c2ab4e",
   "metadata": {},
   "outputs": [],
   "source": [
    "dfm = pd.read_csv('m22.csv', index_col=0)"
   ]
  },
  {
   "cell_type": "code",
   "execution_count": null,
   "id": "61e8af61-ae0c-4398-a97d-6f4cb4920a25",
   "metadata": {},
   "outputs": [],
   "source": [
    "dfm_reg = dfm.iloc[:-1].copy()\n",
    "dfm_reg.sum()"
   ]
  },
  {
   "cell_type": "code",
   "execution_count": null,
   "id": "cf8849d0-5ee5-4477-afd0-fcf5633e50ef",
   "metadata": {},
   "outputs": [],
   "source": [
    "dfm_total = dfm.iloc[[-1]].copy()\n",
    "dfm_total"
   ]
  },
  {
   "cell_type": "code",
   "execution_count": null,
   "id": "46a829a9-fd71-4539-9833-03eefde6434a",
   "metadata": {},
   "outputs": [],
   "source": [
    "dff_reg.columns = ['A_f19', 'V_f19', 'V_err_f19', 'SLE_f19', 'SLE_err_f19']\n",
    "dfm_reg.columns = ['A_m22', 'V_m22', 'V_err_m22', 'SLE_m22', 'SLE_err_m22']"
   ]
  },
  {
   "cell_type": "code",
   "execution_count": null,
   "id": "677bb3dc-8009-4d4b-b8ef-e7a7b21cf798",
   "metadata": {},
   "outputs": [],
   "source": [
    "df = pd.concat([dff_reg, dfm_reg], axis=1)\n",
    "df"
   ]
  },
  {
   "cell_type": "code",
   "execution_count": null,
   "id": "e1663cc2-e03a-4b65-971c-91a7660244d6",
   "metadata": {},
   "outputs": [],
   "source": [
    "df.plot(kind='scatter', x='A_f19', y='A_m22');\n",
    "plt.ylabel('Area Millan'); plt.xlabel('Area RGI');"
   ]
  },
  {
   "cell_type": "code",
   "execution_count": null,
   "id": "47457261-c9bf-4790-a620-640df699ea4d",
   "metadata": {},
   "outputs": [],
   "source": [
    "f, ax = plt.subplots(figsize=(14, 7))\n",
    "((1 - (df['A_m22'] / df['A_f19'])) * 100).plot(ax=ax, marker='o', linestyle='none', alpha=0.8, c='C0');\n",
    "plt.xticks(np.arange(len(df.index)));\n",
    "ax.set_xticklabels(df.index, rotation=45);\n",
    "plt.xlabel('Region'); plt.ylabel('Area difference Millan / RGI [%]');\n",
    "plt.title('Area difference Millan / RGI');"
   ]
  },
  {
   "cell_type": "code",
   "execution_count": null,
   "id": "54c59c2f-f312-4883-a45b-978a89f0d728",
   "metadata": {},
   "outputs": [],
   "source": [
    "df['A_diff'] = (1 - (df['A_m22'] / df['A_f19'])) * 100\n",
    "df['V_diff'] = (1 - (df['V_m22'] / df['V_f19'])) * 100"
   ]
  },
  {
   "cell_type": "code",
   "execution_count": null,
   "id": "eb3e2576-9417-4175-aa8f-30836f90000a",
   "metadata": {},
   "outputs": [],
   "source": [
    "df['V_diff']"
   ]
  },
  {
   "cell_type": "code",
   "execution_count": null,
   "id": "4aa2c6e6-cb21-4286-8c00-9167c794f91d",
   "metadata": {},
   "outputs": [],
   "source": [
    "df['V_m22']"
   ]
  },
  {
   "cell_type": "code",
   "execution_count": null,
   "id": "db74921b-21a5-4ce4-85f5-c946d515aaeb",
   "metadata": {},
   "outputs": [],
   "source": [
    "f, ax = plt.subplots(figsize=(8, 8))\n",
    "df.plot(ax=ax, kind='scatter', x='A_diff', y='V_diff');\n",
    "plt.xlim(-40, 40); plt.ylim(-40, 40);"
   ]
  },
  {
   "cell_type": "code",
   "execution_count": null,
   "id": "ab2953c1-4995-4a73-9f8e-0dd5b139a2fa",
   "metadata": {},
   "outputs": [],
   "source": [
    "df"
   ]
  },
  {
   "cell_type": "code",
   "execution_count": null,
   "id": "97f3bd1a-888a-4c4d-b54e-62d1d18a3ec2",
   "metadata": {},
   "outputs": [],
   "source": [
    "df.sum() * 1e3"
   ]
  },
  {
   "cell_type": "code",
   "execution_count": null,
   "id": "ccf0ec55-2a6d-4d5e-93fb-c46eb78498e4",
   "metadata": {},
   "outputs": [],
   "source": [
    "df.drop(['05', '19']).sum() * 1e-3"
   ]
  },
  {
   "cell_type": "code",
   "execution_count": null,
   "id": "d27215fd-6019-4c14-a7b3-96d04e073872",
   "metadata": {},
   "outputs": [],
   "source": [
    "df.corr()"
   ]
  },
  {
   "cell_type": "code",
   "execution_count": null,
   "id": "52ea9e80-44f4-4ab1-8fd6-d76096018ed6",
   "metadata": {},
   "outputs": [],
   "source": [
    "import seaborn as sns"
   ]
  },
  {
   "cell_type": "code",
   "execution_count": null,
   "id": "181428ab-ec25-4040-8d15-08e86f776992",
   "metadata": {},
   "outputs": [],
   "source": [
    "sns.set_context('talk')"
   ]
  },
  {
   "cell_type": "code",
   "execution_count": null,
   "id": "04b3a1d7-ebfe-4bc8-94b8-afbf9484c4bd",
   "metadata": {},
   "outputs": [],
   "source": [
    "f, ax = plt.subplots(figsize=(14, 7))\n",
    "df.plot(ax=ax, y='V_f19', yerr='V_err_f19', marker='o', linestyle='none', alpha=0.8, c='C0');\n",
    "df.plot(ax=ax, y='V_m22', yerr='V_err_m22', marker='o', linestyle='none', alpha=0.8, c='C3');\n",
    "ax.set_yscale('log')\n",
    "plt.xticks(np.arange(len(df.index)));\n",
    "ax.set_xticklabels(df.index, rotation=45);\n",
    "plt.legend(['Farinotti 19', 'Millan 22'], loc='lower left'); plt.xlabel('Region'); plt.ylabel('Volume [km$^3$]');\n",
    "plt.title('Volume, log scale');"
   ]
  },
  {
   "cell_type": "code",
   "execution_count": null,
   "id": "164ca953-ea4b-47cd-ac48-6ddea313fe76",
   "metadata": {},
   "outputs": [],
   "source": [
    "f, ax = plt.subplots(figsize=(14, 7))\n",
    "df.plot(ax=ax, y='V_f19', yerr='V_err_f19', marker='o', linestyle='none', alpha=0.8, c='C0');\n",
    "df.plot(ax=ax, y='V_m22', yerr='V_err_m22', marker='o', linestyle='none', alpha=0.8, c='C3');\n",
    "plt.xticks(np.arange(len(df.index)));\n",
    "ax.set_xticklabels(df.index, rotation=45);\n",
    "plt.legend(['Farinotti 19', 'Millan 22'], loc='upper left'); plt.xlabel('Region'); plt.ylabel('Volume [km$^3$]');\n",
    "plt.title('Volume, linear scale');"
   ]
  },
  {
   "cell_type": "code",
   "execution_count": null,
   "id": "af799efb-0e86-4f2c-9361-a1521b5aebb9",
   "metadata": {},
   "outputs": [],
   "source": [
    "f, ax = plt.subplots(figsize=(14, 7))\n",
    "df.plot(ax=ax, y='SLE_f19', yerr='SLE_err_f19', marker='o', linestyle='none', alpha=0.8, c='C0');\n",
    "df.plot(ax=ax, y='SLE_m22', yerr='SLE_err_m22', marker='o', linestyle='none', alpha=0.8, c='C3');\n",
    "ax.set_yscale('log')\n",
    "plt.xticks(np.arange(len(df.index)));\n",
    "plt.legend(['Farinotti 19', 'Millan 22'], loc='lower left'); plt.xlabel('Region'); plt.ylabel('SLE [mm]');"
   ]
  },
  {
   "cell_type": "code",
   "execution_count": null,
   "id": "6d50cf6c-cd4c-463c-9e30-439dc11c25ff",
   "metadata": {},
   "outputs": [],
   "source": [
    "f, ax = plt.subplots(figsize=(14, 7))\n",
    "df.plot(ax=ax, y='SLE_f19', yerr='SLE_err_f19', marker='o', linestyle='none', alpha=0.8, c='C0');\n",
    "df.plot(ax=ax, y='SLE_m22', yerr='SLE_err_m22', marker='o', linestyle='none', alpha=0.8, c='C3');\n",
    "plt.xticks(np.arange(len(df.index)));\n",
    "plt.legend(['Farinotti 19', 'Millan 22'], loc='lower left'); plt.xlabel('Region'); plt.ylabel('SLE [mm]');"
   ]
  },
  {
   "cell_type": "code",
   "execution_count": null,
   "id": "6c6915da-e128-4f19-a4a2-cb7b32183db6",
   "metadata": {},
   "outputs": [],
   "source": [
    "df.sum()"
   ]
  },
  {
   "cell_type": "code",
   "execution_count": null,
   "id": "3e0802e6-93b3-434a-890e-f80343449096",
   "metadata": {},
   "outputs": [],
   "source": [
    "odf = pd.DataFrame()\n",
    "\n",
    "odf.loc['Volume km3', 'F19'] = 158.18 \n",
    "odf.loc['Volume km3', 'M22'] = 140.90\n",
    "\n",
    "odf.loc['SLE mm', 'F19'] = 324.20\n",
    "odf.loc['SLE mm', 'M22'] = 311.23"
   ]
  },
  {
   "cell_type": "code",
   "execution_count": null,
   "id": "e5aba768-7aca-4a25-9348-104b9b419cbd",
   "metadata": {},
   "outputs": [],
   "source": [
    "odf['%'] = np.round((1 - odf['M22'] / odf['F19']) * 100)\n",
    "odf"
   ]
  },
  {
   "cell_type": "code",
   "execution_count": null,
   "id": "8276ff49-3bfc-4873-9bb4-55e72d19da36",
   "metadata": {},
   "outputs": [],
   "source": [
    "df_test = pd.read_hdf('rgi62_itmix_df.h5')"
   ]
  },
  {
   "cell_type": "code",
   "execution_count": null,
   "id": "1dde4a42-da6a-45f0-9260-fb64e0aff157",
   "metadata": {},
   "outputs": [],
   "source": [
    "dfa = pd.read_hdf('icevol_compiled.hdf')"
   ]
  },
  {
   "cell_type": "code",
   "execution_count": null,
   "id": "4ae6a543-8350-4ce6-b6cc-66721de0a5de",
   "metadata": {},
   "outputs": [],
   "source": [
    "dfa.sum()"
   ]
  },
  {
   "cell_type": "code",
   "execution_count": null,
   "id": "19739631-7ff9-4ef9-a0e8-ee881cc2ccae",
   "metadata": {},
   "outputs": [],
   "source": [
    "df_test.sum()"
   ]
  },
  {
   "cell_type": "code",
   "execution_count": null,
   "id": "d7b6caa8-545b-4711-ab2c-785e94db2cd3",
   "metadata": {},
   "outputs": [],
   "source": [
    "dfa['REG'] = [s[6:8] for s in dfa.index]"
   ]
  },
  {
   "cell_type": "code",
   "execution_count": null,
   "id": "f6e6fa25-1d2d-4a56-aa67-f09268329f78",
   "metadata": {},
   "outputs": [],
   "source": [
    "dfa"
   ]
  },
  {
   "cell_type": "code",
   "execution_count": null,
   "id": "e2efef31-45ef-417d-85d6-d3c158c6c45b",
   "metadata": {},
   "outputs": [],
   "source": [
    "df_rgi = pd.read_hdf('rgi62_stats.h5')"
   ]
  },
  {
   "cell_type": "code",
   "execution_count": null,
   "id": "b016b37c-c64a-4b47-ba23-24d975f34577",
   "metadata": {},
   "outputs": [],
   "source": [
    "dfa['area'] = df_rgi['Area']"
   ]
  },
  {
   "cell_type": "code",
   "execution_count": null,
   "id": "22136a62-b76e-43a3-982a-3f97197ac6fc",
   "metadata": {},
   "outputs": [],
   "source": [
    "ref_area = dfa[['REG', 'area']].dropna().groupby('REG').sum().replace(0, np.NaN)\n",
    "(ref_area * 1e-3).divide(dff['A'].values[:-1], axis=0)"
   ]
  },
  {
   "cell_type": "code",
   "execution_count": null,
   "id": "f6e2b487-a24f-49ac-8870-6e444f29ceb1",
   "metadata": {},
   "outputs": [],
   "source": [
    "models = ['composite_vol_m3',\n",
    "          'model_1_vol_m3',\n",
    "          'model_2_vol_m3',\n",
    "          'model_3_vol_m3',\n",
    "          'model_4_vol_m3']\n",
    "\n",
    "# models = [\n",
    "#           'model_2_vol_m3',]\n",
    "\n",
    "alldf = ref_area.copy()\n",
    "\n",
    "for mo in models:\n",
    "    dd = dfa[['REG', 'area', mo]].dropna()\n",
    "    dd = dd.groupby('REG').sum().replace(0, np.NaN)\n",
    "    dd[mo] = dd.groupby('REG').sum().replace(0, np.NaN)[mo] * 1e-12\n",
    "\n",
    "    ratio = dd.divide(ref_area)['area']\n",
    "    dd.loc[ratio < 0.98] = np.NaN\n",
    "\n",
    "    alldf[mo] = dd[mo]"
   ]
  },
  {
   "cell_type": "code",
   "execution_count": null,
   "id": "786dd647-641b-4c81-9dd6-99861366c1fb",
   "metadata": {},
   "outputs": [],
   "source": [
    "alldf"
   ]
  },
  {
   "cell_type": "code",
   "execution_count": null,
   "id": "1235d8d6-0282-41dc-89f9-6e31ee88526e",
   "metadata": {},
   "outputs": [],
   "source": [
    "alldf.loc['01, 02'] = alldf.loc[['01', '02']].sum()\n",
    "alldf.loc['13, 14, 15'] = alldf.loc[['13', '14', '15']].sum()\n",
    "alldf = alldf.drop(['01', '02'] + ['13', '14', '15']).sort_index()\n",
    "alldf.loc['13, 14, 15', 'model_4_vol_m3'] = np.NaN\n",
    "alldf.loc['01, 02', 'model_2_vol_m3'] = np.NaN\n",
    "alldf.loc['01, 02', 'model_4_vol_m3'] = np.NaN"
   ]
  },
  {
   "cell_type": "code",
   "execution_count": null,
   "id": "8885be0a-59ec-49d9-852a-32274ec3d92d",
   "metadata": {},
   "outputs": [],
   "source": [
    "alldf"
   ]
  },
  {
   "cell_type": "code",
   "execution_count": null,
   "id": "45164ebb-fb99-4ebd-ae0e-2dc5758ce262",
   "metadata": {},
   "outputs": [],
   "source": [
    "f, ax = plt.subplots(figsize=(14, 7))\n",
    "\n",
    "df.plot(ax=ax, y='V_f19', yerr='V_err_f19', marker='o', linestyle='none', alpha=0.8, c='C0');\n",
    "df.plot(ax=ax, y='V_m22', yerr='V_err_m22', marker='o', linestyle='none', alpha=0.8, c='C3');\n",
    "\n",
    "\n",
    "ax.set_yscale('log')\n",
    "plt.xticks(np.arange(len(df.index)));\n",
    "ax.set_xticklabels(df.index, rotation=45);\n",
    "plt.legend(['Farinotti 19', 'Millan 22'], loc='lower left'); plt.xlabel('Region'); plt.ylabel('Volume [km$^3$]');\n",
    "\n",
    "plt.plot(alldf.model_1_vol_m3, '.', c='black', zorder=99)\n",
    "plt.plot(alldf.model_2_vol_m3, '.', c='black', zorder=99)\n",
    "plt.plot(alldf.model_3_vol_m3, '.', c='black', zorder=99)\n",
    "plt.plot(alldf.model_4_vol_m3, '.', c='black', zorder=99)\n",
    "\n",
    "plt.title('Volume, log scale');\n"
   ]
  },
  {
   "cell_type": "code",
   "execution_count": null,
   "id": "da76add0-4f96-4acb-96b1-86041246f693",
   "metadata": {},
   "outputs": [],
   "source": [
    "f, ax = plt.subplots(figsize=(14, 7))\n",
    "df.plot(ax=ax, y='V_f19', yerr='V_err_f19', marker='o', linestyle='none', alpha=0.8, c='C0');\n",
    "df.plot(ax=ax, y='V_m22', yerr='V_err_m22', marker='o', linestyle='none', alpha=0.8, c='C3');\n",
    "\n",
    "plt.xticks(np.arange(len(df.index)));\n",
    "ax.set_xticklabels(df.index, rotation=45);\n",
    "plt.legend(['Farinotti 19', 'Millan 22'], loc='upper left'); plt.xlabel('Region'); plt.ylabel('Volume [km$^3$]');\n",
    "\n",
    "plt.plot(alldf.model_1_vol_m3, '.', c='black', zorder=99)\n",
    "plt.plot(alldf.model_2_vol_m3, '.', c='black', zorder=99)\n",
    "plt.plot(alldf.model_3_vol_m3, '.', c='black', zorder=99)\n",
    "plt.plot(alldf.model_4_vol_m3, '.', c='black', zorder=99)\n",
    "\n",
    "plt.title('Volume, linear scale');"
   ]
  },
  {
   "cell_type": "code",
   "execution_count": null,
   "id": "b6a0e51e-6544-4c3e-b1c7-11bd5e11b796",
   "metadata": {},
   "outputs": [],
   "source": []
  },
  {
   "cell_type": "code",
   "execution_count": null,
   "id": "aaa57c97-8eac-446b-84b3-d067fab370df",
   "metadata": {},
   "outputs": [],
   "source": []
  }
 ],
 "metadata": {
  "kernelspec": {
   "display_name": "Python 3 (ipykernel)",
   "language": "python",
   "name": "python3"
  },
  "language_info": {
   "codemirror_mode": {
    "name": "ipython",
    "version": 3
   },
   "file_extension": ".py",
   "mimetype": "text/x-python",
   "name": "python",
   "nbconvert_exporter": "python",
   "pygments_lexer": "ipython3",
   "version": "3.8.5"
  }
 },
 "nbformat": 4,
 "nbformat_minor": 5
}
